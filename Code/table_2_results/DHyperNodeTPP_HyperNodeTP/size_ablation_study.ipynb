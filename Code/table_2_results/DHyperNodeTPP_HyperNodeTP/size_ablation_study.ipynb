{
 "cells": [
  {
   "cell_type": "code",
   "execution_count": 2,
   "metadata": {},
   "outputs": [],
   "source": [
    "import pandas as pd\n",
    "import matplotlib.pyplot as plt\n",
    "from tqdm import tqdm\n",
    "import numpy as np\n",
    "from DataLoader.Dataloader import HyperEdgeDataset\n",
    "from DataLoader.Dataloader_directed import HyperDiEdgeDataset\n",
    "from itertools import chain\n",
    "import argparse\n",
    "import pathlib\n",
    "import os\n",
    "from matplotlib import rc\n",
    "# plt.rcParams.update({'font.size': 18})\n",
    "plt.rcParams['text.usetex'] = True\n",
    "resultpath ='nodeevent_directed/'\n",
    "files = ['enron', 'eumail', 'hepth', 'arxiv', 'twitter']"
   ]
  },
  {
   "cell_type": "code",
   "execution_count": 75,
   "metadata": {},
   "outputs": [],
   "source": [
    "## Created Custom Iterator For Getting Conn Probability from Text or CSV File\n",
    "class Iterator:\n",
    "    def __init__(self, filepath) -> None:\n",
    "        if 'csv' == filepath[-3:]:\n",
    "            self.file = pd.read_csv(filepath)\n",
    "            self.cur_index = 0\n",
    "            self.ftype = 'csv'\n",
    "        else:\n",
    "            with open(filepath,'r') as f:\n",
    "                self.file = f.readlines()\n",
    "            self.cur_index = 1\n",
    "            self.ftype = 'txt'\n",
    "        self.filesize = len(self.file)\n",
    "        \n",
    "\n",
    "    def getNext(self):\n",
    "        self.cur_index +=1\n",
    "        if self.ftype == 'csv':\n",
    "            return (self.file['right_size'][self.cur_index - 1], self.file['left_size'][self.cur_index - 1] ,  self.file['MRR'][self.cur_index - 1],  self.file['mae'][self.cur_index - 1])\n",
    "           \n",
    "        else:\n",
    "            cur_result = self.file[self.cur_index - 1].split(', ')\n",
    "            return (int(cur_result[1].strip()), int(cur_result[2].strip()), float(cur_result[3].strip()), float(cur_result[5].strip()))\n",
    "\n",
    "    def hasNext(self):\n",
    "        return self.cur_index < self.filesize"
   ]
  },
  {
   "cell_type": "code",
   "execution_count": 76,
   "metadata": {},
   "outputs": [],
   "source": [
    "def f(x):\n",
    "    if x <= 2 :\n",
    "        return 0\n",
    "    if x < 5 :\n",
    "        return 1\n",
    "    if x < 9:\n",
    "        return 2\n",
    "    return 3\n",
    "def get_size_ablation(iterator):\n",
    "    mae, mrr = [[] for i in range(4)],[[] for i in range(4)]\n",
    "    while iterator.hasNext():\n",
    "        result = iterator.getNext()\n",
    "        size = f(result[0] + result[1])\n",
    "        mrr[size].append(result[2])\n",
    "        mae[size].append(result[3])\n",
    "    print([len(m)for m in mrr])\n",
    "    mean_mrr = [np.mean(m) for m in mrr]\n",
    "    mean_mae = [np.mean(m) for m in mae]\n",
    "    print(f'mean mrr for size [0,1,2,3] is',mean_mrr )\n",
    "    print(f'mean mae for size [0,1,2,3] is',mean_mae )\n",
    "    return mean_mrr, mean_mae\n"
   ]
  },
  {
   "attachments": {},
   "cell_type": "markdown",
   "metadata": {},
   "source": [
    "# Enron"
   ]
  },
  {
   "cell_type": "code",
   "execution_count": 77,
   "metadata": {},
   "outputs": [],
   "source": [
    "## Enron\n",
    "arg ={}\n",
    "arg['fileID'] = 0   ## Enter dataset ID here \n",
    "arg['onlyleft'] = True ## If only left side is consider in directed dataset\n",
    "dataset = 'enron'\n",
    "valid_folders = [files[arg['fileID']]+\"_alpha0.3seed\"+str(i) for i in range(4)] + [files[arg['fileID']]+\"_dir_alpha0.3seed\"+str(i) for i in range(4)]\n",
    "subpath =  os.path.join(resultpath,files[arg['fileID']])\n",
    "for folder in os.listdir(subpath):\n",
    "    if folder in valid_folders:\n",
    "        for file in os.listdir(os.path.join(subpath,folder)):\n",
    "            if  file.endswith('test.csv') or file.endswith('test.txt'): arg[folder+'_test'] = file"
   ]
  },
  {
   "cell_type": "code",
   "execution_count": 78,
   "metadata": {},
   "outputs": [
    {
     "name": "stdout",
     "output_type": "stream",
     "text": [
      "\n",
      "********************* Undirected || Seed 0 *****************************\n",
      "[3099, 505, 188, 48]\n",
      "mean mrr for size [0,1,2,3] is [0.6280983339703037, 0.5322571833313692, 0.5541690299683746, 0.3000167687423527]\n",
      "mean mae for size [0,1,2,3] is [4.303252519552228, 3.7117090198644758, 3.8050741490689997, 1.0591606660357986]\n",
      "\n",
      "********************* Directed || Seed 0 *****************************\n",
      "[3099, 505, 188, 48]\n",
      "mean mrr for size [0,1,2,3] is [0.5936817026373435, 0.6535094793627758, 0.7028034920705125, 0.5590231251747658]\n",
      "mean mae for size [0,1,2,3] is [4.373772631915934, 3.7343199899291046, 3.8259561724485236, 1.04655852727592]\n",
      "\n",
      "********************* Undirected || Seed 1 *****************************\n",
      "[3099, 505, 188, 48]\n",
      "mean mrr for size [0,1,2,3] is [0.6469223447199328, 0.541310858195371, 0.5866428952505613, 0.27702569620062906]\n",
      "mean mae for size [0,1,2,3] is [4.282860420170658, 3.6954210997254835, 3.790252883680799, 1.0251775637734681]\n",
      "\n",
      "********************* Directed || Seed 1 *****************************\n",
      "[3099, 505, 188, 48]\n",
      "mean mrr for size [0,1,2,3] is [0.6224155120465036, 0.6361862405987069, 0.7015167841727429, 0.5557893800238768]\n",
      "mean mae for size [0,1,2,3] is [4.307410954592419, 3.7019281234186474, 3.849331145590924, 1.0235504154115915]\n",
      "\n",
      "********************* Undirected || Seed 2 *****************************\n",
      "[3099, 505, 188, 48]\n",
      "mean mrr for size [0,1,2,3] is [0.645859924879823, 0.5571889578927272, 0.5505152228189275, 0.31515519763343036]\n",
      "mean mae for size [0,1,2,3] is [4.301200970074522, 3.7193314643244784, 3.798623099923134, 1.0851079137840618]\n",
      "\n",
      "********************* Directed || Seed 2 *****************************\n",
      "[3099, 505, 188, 48]\n",
      "mean mrr for size [0,1,2,3] is [0.5962038064972359, 0.6618487355806449, 0.6960612983700443, 0.5253193769603968]\n",
      "mean mae for size [0,1,2,3] is [4.329242594898343, 3.7217200553653265, 3.851609595436999, 1.077419715623061]\n",
      "\n",
      "********************* Undirected || Seed 3 *****************************\n",
      "[3099, 505, 188, 48]\n",
      "mean mrr for size [0,1,2,3] is [0.6382156436269362, 0.5256009415824815, 0.5795533577416171, 0.23232111288234591]\n",
      "mean mae for size [0,1,2,3] is [4.292588344559665, 3.7094339857597163, 3.828201209512004, 1.0364738494778674]\n",
      "\n",
      "********************* Directed || Seed 3 *****************************\n",
      "[3099, 505, 188, 48]\n",
      "mean mrr for size [0,1,2,3] is [0.6132461898264461, 0.7090148822579644, 0.7615062105766637, 0.7833175513272485]\n",
      "mean mae for size [0,1,2,3] is [4.322964498143921, 3.6977048712791785, 3.816543900744712, 1.065548961982131]\n"
     ]
    }
   ],
   "source": [
    "mrr_undir , mrr_dir , mae_undir, mae_dir = [],[],[],[]\n",
    "for seed in range(4):\n",
    "    for folder in valid_folders:\n",
    "        if 'seed'+str(seed) in folder:\n",
    "            if 'dir' in folder:\n",
    "                print(f'\\n********************* Directed || Seed {seed} *****************************')\n",
    "                test_iterator = Iterator(os.path.join(subpath,folder,arg[folder+\"_test\"]))\n",
    "                result = get_size_ablation(test_iterator)\n",
    "                mrr_dir.append(result[0])\n",
    "                mae_dir.append(result[1])\n",
    "            else:\n",
    "                print(f'\\n********************* Undirected || Seed {seed} *****************************')\n",
    "                test_iterator = Iterator(os.path.join(subpath,folder,arg[folder+\"_test\"]))\n",
    "                result = get_size_ablation(test_iterator)\n",
    "                mrr_undir.append(result[0])\n",
    "                mae_undir.append(result[1])\n"
   ]
  },
  {
   "cell_type": "code",
   "execution_count": 79,
   "metadata": {},
   "outputs": [
    {
     "data": {
      "image/png": "[encoded data removed]",
      "text/plain": [
       "<Figure size 288x288 with 1 Axes>"
      ]
     },
     "metadata": {
      "needs_background": "light"
     },
     "output_type": "display_data"
    }
   ],
   "source": [
    "mrr_undir_mean, mrr_undir_std = np.mean(mrr_undir,axis =0) , np.std(mrr_undir, axis = 0)\n",
    "mrr_dir_mean, mrr_dir_std = np.mean(mrr_dir,axis =0) , np.std(mrr_dir, axis = 0)\n",
    "barWidth = 0.25\n",
    "fig = plt.subplots(figsize =(4, 4))\n",
    "x1 = np.arange(mrr_undir_mean.shape[0])\n",
    "x2 = [x + barWidth for x in x1]\n",
    " \n",
    "# Make the plot\n",
    "plt.bar(x1, mrr_undir_mean, yerr= mrr_undir_std, width = barWidth,\n",
    "        edgecolor ='grey', label =r'\\textbf{HyperNodeTPP}')\n",
    "plt.bar(x2, mrr_dir_mean, yerr= mrr_dir_std, width = barWidth,\n",
    "        edgecolor ='grey', label =r'\\textbf{DHyperNodeTPP}')\n",
    "\n",
    "plt.xticks([r + barWidth/2 for r in range(len(x1))],\n",
    "        [r'2', r'3-4', r'5-8', r'$\\geq$9'], fontweight ='bold',fontsize = 15)\n",
    "legend_properties = {'weight':'bold'}\n",
    "plt.legend(prop=legend_properties, ncol = 2, loc=[-0.06,1])\n",
    "plt.xlabel(r'\\textbf{Size of Hyperedge ($\\mathbf{k^r + k^l}$)}',fontsize = 15)\n",
    "plt.ylabel(r'\\textbf{MRR}',fontsize = 15)\n",
    "plt.yticks(fontweight ='bold',fontsize = 15)\n",
    "pathlib.Path(f\"./Plots/{files[arg['fileID']]}\").mkdir(parents=True,exist_ok=True)\n",
    "plt.savefig(f\"./Plots/{files[arg['fileID']]}/mrr.pdf\",bbox_inches='tight', dpi = 1000, pad_inches=0)\n",
    "plt.show()\n",
    "\n"
   ]
  },
  {
   "cell_type": "code",
   "execution_count": 80,
   "metadata": {},
   "outputs": [
    {
     "data": {
      "image/png": "[encoded data removed]",
      "text/plain": [
       "<Figure size 288x288 with 1 Axes>"
      ]
     },
     "metadata": {
      "needs_background": "light"
     },
     "output_type": "display_data"
    }
   ],
   "source": [
    "mae_undir_mean, mae_undir_std = np.mean(mae_undir,axis =0) , np.std(mae_undir, axis = 0)\n",
    "mae_dir_mean, mae_dir_std = np.mean(mae_dir,axis =0) , np.std(mae_dir, axis = 0)\n",
    "\n",
    "barWidth = 0.25\n",
    "fig = plt.subplots(figsize =(4, 4))\n",
    "x1 = np.arange(mae_undir_mean.shape[0])\n",
    "x2 = [x + barWidth for x in x1]\n",
    " \n",
    "# Make the plot\n",
    "plt.bar(x1, mae_undir_mean, yerr= mae_undir_std, width = barWidth,\n",
    "        edgecolor ='grey', label =r'\\textbf{HyperNodeTPP}')\n",
    "plt.bar(x2, mae_dir_mean, yerr= mae_dir_std, width = barWidth,\n",
    "        edgecolor ='grey', label =r\"\\textbf{DHyperNodeTPP}\")\n",
    "\n",
    "# plt.xticks(np.array(x1)+barWidth/2, x1)\n",
    "plt.xticks([r + barWidth/2 for r in range(len(x1))],\n",
    "        [r'2', r'3-4', r'5-8', r'$\\geq$9'], fontweight ='bold', fontsize = 15)\n",
    "legend_properties = {'weight':'bold'}\n",
    "plt.legend(prop=legend_properties, ncol = 2, loc=[-0.06,1])\n",
    "plt.xlabel(r'\\textbf{Size of Hyperedge ($\\mathbf{k^r + k^l}$)}', fontsize = 15)\n",
    "plt.ylabel(r'\\textbf{MAE}', fontsize = 15)\n",
    "plt.yticks(fontweight ='bold',fontsize= 15)\n",
    "pathlib.Path(f\"./Plots/{files[arg['fileID']]}\").mkdir(parents=True,exist_ok=True)\n",
    "plt.savefig(f\"./Plots/{files[arg['fileID']]}/mae.pdf\",bbox_inches='tight', dpi = 1000, pad_inches=0)\n",
    "plt.show()"
   ]
  },
  {
   "attachments": {},
   "cell_type": "markdown",
   "metadata": {},
   "source": [
    "## Eumail"
   ]
  },
  {
   "cell_type": "code",
   "execution_count": 81,
   "metadata": {},
   "outputs": [],
   "source": [
    "## eumail\n",
    "arg ={}\n",
    "arg['fileID'] = 1  ## Enter dataset ID here \n",
    "arg['onlyleft'] = True ## If only left side is consider in directed dataset\n",
    "valid_folders = [files[arg['fileID']]+\"_alpha0.1seed\"+str(i) for i in range(3)] + [files[arg['fileID']]+\"_dir_alpha0.1seed\"+str(i) for i in range(3)]\n",
    "subpath =  os.path.join(resultpath,files[arg['fileID']])\n",
    "for folder in os.listdir(subpath):\n",
    "    if folder in valid_folders:\n",
    "        for file in os.listdir(os.path.join(subpath,folder)):\n",
    "            if  file.endswith('test.csv') or file.endswith('test.txt'): arg[folder+'_test'] = file"
   ]
  },
  {
   "cell_type": "code",
   "execution_count": 82,
   "metadata": {},
   "outputs": [
    {
     "name": "stdout",
     "output_type": "stream",
     "text": [
      "\n",
      "********************* Undirected || Seed 0 *****************************\n",
      "[42649, 6419, 2322, 833]\n",
      "mean mrr for size [0,1,2,3] is [0.7592043039830301, 0.7436017062858009, 0.7417115579334366, 0.622442863586427]\n",
      "mean mae for size [0,1,2,3] is [3.2994813685419384, 76.61738765953594, 3.0595867085181543, 2.734608165995807]\n",
      "\n",
      "********************* Directed || Seed 0 *****************************\n",
      "[42649, 6419, 2322, 833]\n",
      "mean mrr for size [0,1,2,3] is [0.6452272696838814, 0.8002104065960619, 0.8612740678194521, 0.8097710655141277]\n",
      "mean mae for size [0,1,2,3] is [3.2545624126281956, 76.59909549068, 3.020159199878792, 2.6401655400643684]\n",
      "\n",
      "********************* Undirected || Seed 1 *****************************\n",
      "[42649, 6419, 2322, 833]\n",
      "mean mrr for size [0,1,2,3] is [0.759593989917662, 0.7498828889803549, 0.7599989174352598, 0.6343231852359774]\n",
      "mean mae for size [0,1,2,3] is [3.252073942054319, 76.61252692000745, 3.0813224768325442, 2.7412619154636455]\n",
      "\n",
      "********************* Directed || Seed 1 *****************************\n",
      "[42649, 6419, 2322, 833]\n",
      "mean mrr for size [0,1,2,3] is [0.6990663608009287, 0.7737720264282938, 0.8458463210519483, 0.7701633175899859]\n",
      "mean mae for size [0,1,2,3] is [3.219163993336587, 76.59153937939732, 3.0043858471450866, 2.6123854374470543]\n",
      "\n",
      "********************* Undirected || Seed 2 *****************************\n",
      "[42649, 6419, 2322, 833]\n",
      "mean mrr for size [0,1,2,3] is [0.7708808062024454, 0.7653242795307246, 0.7683703043962556, 0.6272710231619151]\n",
      "mean mae for size [0,1,2,3] is [3.320228669326239, 76.6314669487035, 3.086500131902923, 2.8234253874739537]\n",
      "\n",
      "********************* Directed || Seed 2 *****************************\n",
      "[42649, 6419, 2322, 833]\n",
      "mean mrr for size [0,1,2,3] is [0.6075581429923336, 0.82031604057881, 0.873757577039988, 0.8412841133290336]\n",
      "mean mae for size [0,1,2,3] is [3.2090928476761102, 76.57195800151412, 2.9852000146588464, 2.602654999598306]\n"
     ]
    }
   ],
   "source": [
    "mrr_undir , mrr_dir , mae_undir, mae_dir = [],[],[],[]\n",
    "for seed in range(4):\n",
    "    for folder in valid_folders:\n",
    "        if 'seed'+str(seed) in folder:\n",
    "            if 'dir' in folder:\n",
    "                print(f'\\n********************* Directed || Seed {seed} *****************************')\n",
    "                test_iterator = Iterator(os.path.join(subpath,folder,arg[folder+\"_test\"]))\n",
    "                result = get_size_ablation(test_iterator)\n",
    "                mrr_dir.append(result[0])\n",
    "                mae_dir.append(result[1])\n",
    "            else:\n",
    "                print(f'\\n********************* Undirected || Seed {seed} *****************************')\n",
    "                test_iterator = Iterator(os.path.join(subpath,folder,arg[folder+\"_test\"]))\n",
    "                result = get_size_ablation(test_iterator)\n",
    "                mrr_undir.append(result[0])\n",
    "                mae_undir.append(result[1])\n"
   ]
  },
  {
   "cell_type": "code",
   "execution_count": 85,
   "metadata": {},
   "outputs": [
    {
     "data": {
      "image/png": "[encoded data removed]",
      "text/plain": [
       "<Figure size 288x288 with 1 Axes>"
      ]
     },
     "metadata": {
      "needs_background": "light"
     },
     "output_type": "display_data"
    }
   ],
   "source": [
    "mrr_undir_mean, mrr_undir_std = np.mean(mrr_undir,axis =0) , np.std(mrr_undir, axis = 0)\n",
    "mrr_dir_mean, mrr_dir_std = np.mean(mrr_dir,axis =0) , np.std(mrr_dir, axis = 0)\n",
    "barWidth = 0.25\n",
    "fig = plt.subplots(figsize =(4, 4))\n",
    "x1 = np.arange(mrr_undir_mean.shape[0])\n",
    "x2 = [x + barWidth for x in x1]\n",
    " \n",
    "# Make the plot\n",
    "plt.bar(x1, mrr_undir_mean, yerr= mrr_undir_std, width = barWidth,\n",
    "        edgecolor ='grey', label =r'\\textbf{HyperNodeTPP}')\n",
    "plt.bar(x2, mrr_dir_mean, yerr= mrr_dir_std, width = barWidth,\n",
    "        edgecolor ='grey', label =r'\\textbf{DHyperNodeTPP}')\n",
    "\n",
    "plt.xticks([r + barWidth/2 for r in range(len(x1))],\n",
    "        [r'2', r'3-4', r'5-8', r'$\\geq$9'], fontweight ='bold',fontsize = 15)\n",
    "legend_properties = {'weight':'bold'}\n",
    "plt.legend(prop=legend_properties, ncol = 2, loc=[-0.06,1])\n",
    "plt.xlabel(r'\\textbf{Size of Hyperedge ($\\mathbf{k^r + k^l}$)}',fontsize = 15)\n",
    "plt.ylabel(r'\\textbf{MRR}',fontsize = 15)\n",
    "plt.yticks(fontweight ='bold',fontsize = 15)\n",
    "pathlib.Path(f\"./Plots/{files[arg['fileID']]}\").mkdir(parents=True,exist_ok=True)\n",
    "plt.savefig(f\"./Plots/{files[arg['fileID']]}/mrr.pdf\",bbox_inches='tight', dpi = 1000, pad_inches=0)\n",
    "plt.show()\n",
    "\n"
   ]
  },
  {
   "cell_type": "code",
   "execution_count": 86,
   "metadata": {},
   "outputs": [
    {
     "data": {
      "image/png": "[encoded data removed]",
      "text/plain": [
       "<Figure size 288x288 with 1 Axes>"
      ]
     },
     "metadata": {
      "needs_background": "light"
     },
     "output_type": "display_data"
    }
   ],
   "source": [
    "mae_undir_mean, mae_undir_std = np.mean(mae_undir,axis =0) , np.std(mae_undir, axis = 0)\n",
    "mae_dir_mean, mae_dir_std = np.mean(mae_dir,axis =0) , np.std(mae_dir, axis = 0)\n",
    "\n",
    "barWidth = 0.25\n",
    "fig = plt.subplots(figsize =(4, 4))\n",
    "x1 = np.arange(mae_undir_mean.shape[0])\n",
    "x2 = [x + barWidth for x in x1]\n",
    " \n",
    "# Make the plot\n",
    "plt.bar(x1, mae_undir_mean, yerr= mae_undir_std, width = barWidth,\n",
    "        edgecolor ='grey', label =r'\\textbf{HyperNodeTPP}')\n",
    "plt.bar(x2, mae_dir_mean, yerr= mae_dir_std, width = barWidth,\n",
    "        edgecolor ='grey', label =r\"\\textbf{DHyperNodeTPP}\")\n",
    "\n",
    "# plt.xticks(np.array(x1)+barWidth/2, x1)\n",
    "plt.xticks([r + barWidth/2 for r in range(len(x1))],\n",
    "        [r'2', r'3-4', r'5-8', r'$\\geq$9'], fontweight ='bold', fontsize = 15)\n",
    "legend_properties = {'weight':'bold'}\n",
    "plt.legend(prop=legend_properties, ncol = 2, loc=[-0.06,1])\n",
    "plt.xlabel(r'\\textbf{Size of Hyperedge ($\\mathbf{k^r + k^l}$)}', fontsize = 15)\n",
    "plt.ylabel(r'\\textbf{MAE}', fontsize = 15)\n",
    "plt.yticks(fontweight ='bold',fontsize= 15)\n",
    "pathlib.Path(f\"./Plots/{files[arg['fileID']]}\").mkdir(parents=True,exist_ok=True)\n",
    "plt.savefig(f\"./Plots/{files[arg['fileID']]}/mae.pdf\",bbox_inches='tight', dpi = 1000, pad_inches=0)\n",
    "plt.show()"
   ]
  },
  {
   "attachments": {},
   "cell_type": "markdown",
   "metadata": {},
   "source": [
    "## Twitter"
   ]
  },
  {
   "cell_type": "code",
   "execution_count": 87,
   "metadata": {},
   "outputs": [],
   "source": [
    "## Twitter\n",
    "arg ={}\n",
    "arg['fileID'] = 4  ## Enter dataset ID here \n",
    "arg['onlyleft'] = True ## If only left side is consider in directed dataset\n",
    "valid_folders = [files[arg['fileID']]+\"_alpha0.3seed\"+str(i) for i in range(4)] + [files[arg['fileID']]+\"_dir_alpha0.3seed\"+str(i) for i in range(4)]\n",
    "subpath =  os.path.join(resultpath,files[arg['fileID']])\n",
    "for folder in os.listdir(subpath):\n",
    "    if folder in valid_folders:\n",
    "        for file in os.listdir(os.path.join(subpath,folder)):\n",
    "           if  file.endswith('test.csv') or file.endswith('test.txt'): arg[folder+'_test'] = file\n"
   ]
  },
  {
   "cell_type": "code",
   "execution_count": 88,
   "metadata": {},
   "outputs": [
    {
     "name": "stdout",
     "output_type": "stream",
     "text": [
      "\n",
      "********************* Undirected || Seed 0 *****************************\n",
      "[1743, 615, 167, 33]\n",
      "mean mrr for size [0,1,2,3] is [0.8429880449126249, 0.8202362096770023, 0.8581138480744676, 0.7687480874133833]\n",
      "mean mae for size [0,1,2,3] is [1.1728128772560236, 1.1747676866113896, 1.18793825181703, 1.4621549433831014]\n",
      "\n",
      "********************* Directed || Seed 0 *****************************\n",
      "[1743, 615, 167, 33]\n",
      "mean mrr for size [0,1,2,3] is [0.7997366930013474, 0.8448531108597914, 0.9193945444763421, 0.813672439392769]\n",
      "mean mae for size [0,1,2,3] is [1.2076856268936371, 1.2032495240855023, 1.2407449706942735, 1.4770247629194548]\n",
      "\n",
      "********************* Undirected || Seed 1 *****************************\n",
      "[1743, 615, 167, 33]\n",
      "mean mrr for size [0,1,2,3] is [0.8554360415942527, 0.8284432790810015, 0.8474289521485746, 0.7434343440514622]\n",
      "mean mae for size [0,1,2,3] is [1.1834818197438859, 1.1736053497038357, 1.1940381478094413, 1.4978915048819599]\n",
      "\n",
      "********************* Directed || Seed 1 *****************************\n",
      "[1743, 615, 167, 33]\n",
      "mean mrr for size [0,1,2,3] is [0.8040199177943457, 0.8456077470345711, 0.8997534346170054, 0.8191919204863635]\n",
      "mean mae for size [0,1,2,3] is [1.1869926881974822, 1.1914216171435223, 1.2656264533539732, 1.493749170592337]\n",
      "\n",
      "********************* Undirected || Seed 2 *****************************\n",
      "[1743, 615, 167, 33]\n",
      "mean mrr for size [0,1,2,3] is [0.8526737902375452, 0.8295194238424302, 0.8450951580694336, 0.7048332986958099]\n",
      "mean mae for size [0,1,2,3] is [1.1939088251319891, 1.1922862701466292, 1.1927630401880085, 1.4642433939558086]\n",
      "\n",
      "********************* Directed || Seed 2 *****************************\n",
      "[1743, 615, 167, 33]\n",
      "mean mrr for size [0,1,2,3] is [0.8077786937633843, 0.8498518729052408, 0.8820005980526616, 0.8197913208242619]\n",
      "mean mae for size [0,1,2,3] is [1.1969658187320706, 1.1910469710342284, 1.2209649735582089, 1.5346129410194629]\n",
      "\n",
      "********************* Undirected || Seed 3 *****************************\n",
      "[1743, 615, 167, 33]\n",
      "mean mrr for size [0,1,2,3] is [0.8613277961164969, 0.8244536388089987, 0.8459274097384807, 0.7210437716408209]\n",
      "mean mae for size [0,1,2,3] is [1.1930167784789343, 1.1880040968003553, 1.1885623829829657, 1.4725456027822061]\n",
      "\n",
      "********************* Directed || Seed 3 *****************************\n",
      "[1743, 615, 167, 33]\n",
      "mean mrr for size [0,1,2,3] is [0.8100282224840941, 0.8422979953206652, 0.8939732976570101, 0.808201059021733]\n",
      "mean mae for size [0,1,2,3] is [1.2155308916318437, 1.1984162888875822, 1.2082505343916887, 1.4745808135379443]\n"
     ]
    }
   ],
   "source": [
    "mrr_undir , mrr_dir , mae_undir, mae_dir = [],[],[],[]\n",
    "for seed in range(4):\n",
    "    for folder in valid_folders:\n",
    "        if 'seed'+str(seed) in folder:\n",
    "            if 'dir' in folder:\n",
    "                print(f'\\n********************* Directed || Seed {seed} *****************************')\n",
    "                test_iterator = Iterator(os.path.join(subpath,folder,arg[folder+\"_test\"]))\n",
    "                result = get_size_ablation(test_iterator)\n",
    "                mrr_dir.append(result[0])\n",
    "                mae_dir.append(result[1])\n",
    "            else:\n",
    "                print(f'\\n********************* Undirected || Seed {seed} *****************************')\n",
    "                test_iterator = Iterator(os.path.join(subpath,folder,arg[folder+\"_test\"]))\n",
    "                result = get_size_ablation(test_iterator)\n",
    "                mrr_undir.append(result[0])\n",
    "                mae_undir.append(result[1])\n"
   ]
  },
  {
   "cell_type": "code",
   "execution_count": 89,
   "metadata": {},
   "outputs": [
    {
     "data": {
      "image/png": "[encoded data removed]",
      "text/plain": [
       "<Figure size 288x288 with 1 Axes>"
      ]
     },
     "metadata": {
      "needs_background": "light"
     },
     "output_type": "display_data"
    }
   ],
   "source": [
    "mrr_undir_mean, mrr_undir_std = np.mean(mrr_undir,axis =0) , np.std(mrr_undir, axis = 0)\n",
    "mrr_dir_mean, mrr_dir_std = np.mean(mrr_dir,axis =0) , np.std(mrr_dir, axis = 0)\n",
    "barWidth = 0.25\n",
    "fig = plt.subplots(figsize =(4, 4))\n",
    "x1 = np.arange(mrr_undir_mean.shape[0])\n",
    "x2 = [x + barWidth for x in x1]\n",
    " \n",
    "# Make the plot\n",
    "plt.bar(x1, mrr_undir_mean, yerr= mrr_undir_std, width = barWidth,\n",
    "        edgecolor ='grey', label =r'\\textbf{HyperNodeTPP}')\n",
    "plt.bar(x2, mrr_dir_mean, yerr= mrr_dir_std, width = barWidth,\n",
    "        edgecolor ='grey', label =r'\\textbf{DHyperNodeTPP}')\n",
    "\n",
    "plt.xticks([r + barWidth/2 for r in range(len(x1))],\n",
    "        [r'2', r'3-4', r'5-8', r'$\\geq$9'], fontweight ='bold',fontsize = 15)\n",
    "legend_properties = {'weight':'bold'}\n",
    "plt.legend(prop=legend_properties, ncol = 2, loc=[-0.06,1])\n",
    "plt.xlabel(r'\\textbf{Size of Hyperedge ($\\mathbf{k^r + k^l}$)}',fontsize = 15)\n",
    "plt.ylabel(r'\\textbf{MRR}',fontsize = 15)\n",
    "plt.yticks(fontweight ='bold',fontsize = 15)\n",
    "pathlib.Path(f\"./Plots/{files[arg['fileID']]}\").mkdir(parents=True,exist_ok=True)\n",
    "plt.savefig(f\"./Plots/{files[arg['fileID']]}/mrr.pdf\",bbox_inches='tight', dpi = 1000, pad_inches=0)\n",
    "plt.show()\n",
    "\n"
   ]
  },
  {
   "cell_type": "code",
   "execution_count": 90,
   "metadata": {},
   "outputs": [
    {
     "data": {
      "image/png": "[encoded data removed]",
      "text/plain": [
       "<Figure size 288x288 with 1 Axes>"
      ]
     },
     "metadata": {
      "needs_background": "light"
     },
     "output_type": "display_data"
    }
   ],
   "source": [
    "mae_undir_mean, mae_undir_std = np.mean(mae_undir,axis =0) , np.std(mae_undir, axis = 0)\n",
    "mae_dir_mean, mae_dir_std = np.mean(mae_dir,axis =0) , np.std(mae_dir, axis = 0)\n",
    "\n",
    "barWidth = 0.25\n",
    "fig = plt.subplots(figsize =(4, 4))\n",
    "x1 = np.arange(mae_undir_mean.shape[0])\n",
    "x2 = [x + barWidth for x in x1]\n",
    " \n",
    "# Make the plot\n",
    "plt.bar(x1, mae_undir_mean, yerr= mae_undir_std, width = barWidth,\n",
    "        edgecolor ='grey', label =r'\\textbf{HyperNodeTPP}')\n",
    "plt.bar(x2, mae_dir_mean, yerr= mae_dir_std, width = barWidth,\n",
    "        edgecolor ='grey', label =r\"\\textbf{DHyperNodeTPP}\")\n",
    "\n",
    "# plt.xticks(np.array(x1)+barWidth/2, x1)\n",
    "plt.xticks([r + barWidth/2 for r in range(len(x1))],\n",
    "        [r'2', r'3-4', r'5-8', r'$\\geq$9'], fontweight ='bold', fontsize = 15)\n",
    "legend_properties = {'weight':'bold'}\n",
    "plt.legend(prop=legend_properties, ncol = 2, loc=[-0.06,1])\n",
    "plt.xlabel(r'\\textbf{Size of Hyperedge ($\\mathbf{k^r + k^l}$)}', fontsize = 15)\n",
    "plt.ylabel(r'\\textbf{MAE}', fontsize = 15)\n",
    "plt.yticks(fontweight ='bold',fontsize= 15)\n",
    "pathlib.Path(f\"./Plots/{files[arg['fileID']]}\").mkdir(parents=True,exist_ok=True)\n",
    "plt.savefig(f\"./Plots/{files[arg['fileID']]}/mae.pdf\",bbox_inches='tight', dpi = 1000, pad_inches=0)\n",
    "plt.show()"
   ]
  },
  {
   "attachments": {},
   "cell_type": "markdown",
   "metadata": {},
   "source": [
    "## Hepth"
   ]
  },
  {
   "cell_type": "code",
   "execution_count": 91,
   "metadata": {},
   "outputs": [],
   "source": [
    "## hepth\n",
    "arg ={}\n",
    "arg['fileID'] = 2  ## Enter dataset ID here \n",
    "arg['onlyleft'] = False ## If only left side is consider in directed dataset, the flag is true.\n",
    "valid_folders = [files[arg['fileID']]+\"_alpha0.3seed\"+str(i)+'_1e-3' for i in range(3)] + [files[arg['fileID']]+\"_dir_alpha0.3seed\"+str(i)+'_1e-3'  for i in range(3)]\n",
    "subpath =  os.path.join(resultpath,files[arg['fileID']])\n",
    "for folder in os.listdir(subpath):\n",
    "    if folder in valid_folders:\n",
    "        for file in os.listdir(os.path.join(subpath,folder)):\n",
    "            if  file.endswith('test.csv') or file.endswith('test.txt'): arg[folder+'_test'] = file"
   ]
  },
  {
   "cell_type": "code",
   "execution_count": 92,
   "metadata": {},
   "outputs": [
    {
     "name": "stdout",
     "output_type": "stream",
     "text": [
      "\n",
      "********************* Undirected || Seed 0 *****************************\n",
      "[137, 224, 495, 1704]\n",
      "mean mrr for size [0,1,2,3] is [0.7937401417289337, 0.5547586856077292, 0.44853128232438155, 0.42123032469267435]\n",
      "mean mae for size [0,1,2,3] is [1.2459152196907866, 1.1639293323137931, 1.2839781199252667, 1.2572618968262306]\n",
      "\n",
      "********************* Directed || Seed 0 *****************************\n",
      "[137, 224, 495, 1704]\n",
      "mean mrr for size [0,1,2,3] is [0.8415420309633669, 0.7579802337401945, 0.7241651482353306, 0.5975568012548654]\n",
      "mean mae for size [0,1,2,3] is [1.2860773674409538, 1.2147154633754067, 1.3377073493757934, 1.2747050144571916]\n",
      "\n",
      "********************* Undirected || Seed 1 *****************************\n",
      "[137, 224, 495, 1704]\n",
      "mean mrr for size [0,1,2,3] is [0.8469475783462072, 0.5777383372021306, 0.4578953058280126, 0.3706354472322713]\n",
      "mean mae for size [0,1,2,3] is [1.2538014492631828, 1.1651396458245082, 1.2813431708085719, 1.2583402765121205]\n",
      "\n",
      "********************* Directed || Seed 1 *****************************\n",
      "[137, 224, 495, 1704]\n",
      "mean mrr for size [0,1,2,3] is [0.8540057270196233, 0.7764934079023078, 0.7165215442502739, 0.6267049651453053]\n",
      "mean mae for size [0,1,2,3] is [1.2253286413929976, 1.2061966786194327, 1.3171619753908328, 1.2594056616749334]\n",
      "\n",
      "********************* Undirected || Seed 2 *****************************\n",
      "[137, 224, 495, 1704]\n",
      "mean mrr for size [0,1,2,3] is [0.8459042991056059, 0.6129529711324722, 0.48160277650211797, 0.4266500023451629]\n",
      "mean mae for size [0,1,2,3] is [1.2483019703985565, 1.1664303263948699, 1.2778168338454432, 1.2545726193582962]\n",
      "\n",
      "********************* Directed || Seed 2 *****************************\n",
      "[137, 224, 495, 1704]\n",
      "mean mrr for size [0,1,2,3] is [0.8378071143788143, 0.7732122423227078, 0.7222632305263871, 0.6158403589001074]\n",
      "mean mae for size [0,1,2,3] is [1.2636645272999567, 1.205101581390149, 1.32258978117295, 1.2725541276951264]\n"
     ]
    }
   ],
   "source": [
    "mrr_undir , mrr_dir , mae_undir, mae_dir = [],[],[],[]\n",
    "for seed in range(4):\n",
    "    for folder in valid_folders:\n",
    "        if 'seed'+str(seed) in folder:\n",
    "            if 'dir' in folder:\n",
    "                print(f'\\n********************* Directed || Seed {seed} *****************************')\n",
    "                test_iterator = Iterator(os.path.join(subpath,folder,arg[folder+\"_test\"]))\n",
    "                result = get_size_ablation(test_iterator)\n",
    "                mrr_dir.append(result[0])\n",
    "                mae_dir.append(result[1])\n",
    "            else:\n",
    "                print(f'\\n********************* Undirected || Seed {seed} *****************************')\n",
    "                test_iterator = Iterator(os.path.join(subpath,folder,arg[folder+\"_test\"]))\n",
    "                result = get_size_ablation(test_iterator)\n",
    "                mrr_undir.append(result[0])\n",
    "                mae_undir.append(result[1])\n"
   ]
  },
  {
   "cell_type": "code",
   "execution_count": 93,
   "metadata": {},
   "outputs": [
    {
     "data": {
      "image/png": "[encoded data removed]",
      "text/plain": [
       "<Figure size 288x288 with 1 Axes>"
      ]
     },
     "metadata": {
      "needs_background": "light"
     },
     "output_type": "display_data"
    }
   ],
   "source": [
    "mrr_undir_mean, mrr_undir_std = np.mean(mrr_undir,axis =0) , np.std(mrr_undir, axis = 0)\n",
    "mrr_dir_mean, mrr_dir_std = np.mean(mrr_dir,axis =0) , np.std(mrr_dir, axis = 0)\n",
    "barWidth = 0.25\n",
    "fig = plt.subplots(figsize =(4, 4))\n",
    "x1 = np.arange(mrr_undir_mean.shape[0])\n",
    "x2 = [x + barWidth for x in x1]\n",
    " \n",
    "# Make the plot\n",
    "plt.bar(x1, mrr_undir_mean, yerr= mrr_undir_std, width = barWidth,\n",
    "        edgecolor ='grey', label =r'\\textbf{HyperNodeTPP}')\n",
    "plt.bar(x2, mrr_dir_mean, yerr= mrr_dir_std, width = barWidth,\n",
    "        edgecolor ='grey', label =r'\\textbf{DHyperNodeTPP}')\n",
    "\n",
    "plt.xticks([r + barWidth/2 for r in range(len(x1))],\n",
    "        [r'2', r'3-4', r'5-8', r'$\\geq$9'], fontweight ='bold',fontsize = 15)\n",
    "legend_properties = {'weight':'bold'}\n",
    "plt.legend(prop=legend_properties, ncol = 2, loc=[-0.06,1])\n",
    "plt.xlabel(r'\\textbf{Size of Hyperedge ($\\mathbf{k^r + k^l}$)}',fontsize = 15)\n",
    "plt.ylabel(r'\\textbf{MRR}',fontsize = 15)\n",
    "plt.yticks(fontweight ='bold',fontsize = 15)\n",
    "pathlib.Path(f\"./Plots/{files[arg['fileID']]}\").mkdir(parents=True,exist_ok=True)\n",
    "plt.savefig(f\"./Plots/{files[arg['fileID']]}/mrr.pdf\",bbox_inches='tight', dpi = 1000, pad_inches=0)\n",
    "plt.show()\n",
    "\n"
   ]
  },
  {
   "cell_type": "code",
   "execution_count": 94,
   "metadata": {},
   "outputs": [
    {
     "data": {
      "image/png": "[encoded data removed]",
      "text/plain": [
       "<Figure size 288x288 with 1 Axes>"
      ]
     },
     "metadata": {
      "needs_background": "light"
     },
     "output_type": "display_data"
    }
   ],
   "source": [
    "mae_undir_mean, mae_undir_std = np.mean(mae_undir,axis =0) , np.std(mae_undir, axis = 0)\n",
    "mae_dir_mean, mae_dir_std = np.mean(mae_dir,axis =0) , np.std(mae_dir, axis = 0)\n",
    "\n",
    "barWidth = 0.25\n",
    "fig = plt.subplots(figsize =(4, 4))\n",
    "x1 = np.arange(mae_undir_mean.shape[0])\n",
    "x2 = [x + barWidth for x in x1]\n",
    " \n",
    "# Make the plot\n",
    "plt.bar(x1, mae_undir_mean, yerr= mae_undir_std, width = barWidth,\n",
    "        edgecolor ='grey', label =r'\\textbf{HyperNodeTPP}')\n",
    "plt.bar(x2, mae_dir_mean, yerr= mae_dir_std, width = barWidth,\n",
    "        edgecolor ='grey', label =r\"\\textbf{DHyperNodeTPP}\")\n",
    "\n",
    "# plt.xticks(np.array(x1)+barWidth/2, x1)\n",
    "plt.xticks([r + barWidth/2 for r in range(len(x1))],\n",
    "        [r'2', r'3-4', r'5-8', r'$\\geq$9'], fontweight ='bold', fontsize = 15)\n",
    "legend_properties = {'weight':'bold'}\n",
    "plt.legend(prop=legend_properties, ncol = 2, loc=[-0.06,1])\n",
    "plt.xlabel(r'\\textbf{Size of Hyperedge ($\\mathbf{k^r + k^l}$)}', fontsize = 15)\n",
    "plt.ylabel(r'\\textbf{MAE}', fontsize = 15)\n",
    "plt.yticks(fontweight ='bold',fontsize= 15)\n",
    "pathlib.Path(f\"./Plots/{files[arg['fileID']]}\").mkdir(parents=True,exist_ok=True)\n",
    "plt.savefig(f\"./Plots/{files[arg['fileID']]}/mae.pdf\",bbox_inches='tight', dpi = 1000, pad_inches=0)\n",
    "plt.show()"
   ]
  },
  {
   "attachments": {},
   "cell_type": "markdown",
   "metadata": {},
   "source": [
    "## arxiv"
   ]
  },
  {
   "cell_type": "code",
   "execution_count": 95,
   "metadata": {},
   "outputs": [],
   "source": [
    "## arxiv\n",
    "arg ={}\n",
    "arg['fileID'] = 3   ## Enter dataset ID here \n",
    "arg['onlyleft'] = False ## If only left side is consider in directed dataset\n",
    "valid_folders = [files[arg['fileID']]+\"_alpha0.3seed\"+str(i)+'_1e-3' for i in range(3)] + [files[arg['fileID']]+\"_dir_alpha0.3seed\"+str(i)+'_1e-3' for i in range(3)]\n",
    "subpath =  os.path.join(resultpath,files[arg['fileID']])\n",
    "for folder in os.listdir(subpath):\n",
    "    if folder in valid_folders:\n",
    "        for file in os.listdir(os.path.join(subpath,folder)):\n",
    "           if  file.endswith('test.csv') or file.endswith('test.txt'): arg[folder+'_test'] = file"
   ]
  },
  {
   "cell_type": "code",
   "execution_count": 96,
   "metadata": {},
   "outputs": [
    {
     "name": "stdout",
     "output_type": "stream",
     "text": [
      "\n",
      "********************* Undirected || Seed 0 *****************************\n",
      "[173, 421, 859, 3155]\n",
      "mean mrr for size [0,1,2,3] is [0.34438064011793607, 0.28672858293117365, 0.26435257774605325, 0.2969220305502226]\n",
      "mean mae for size [0,1,2,3] is [1.0904957081024358, 0.9650618251337894, 1.0506039940306486, 0.9823227765159637]\n",
      "\n",
      "********************* Directed || Seed 0 *****************************\n",
      "[173, 421, 859, 3155]\n",
      "mean mrr for size [0,1,2,3] is [0.45017988015116983, 0.4716262776767415, 0.43104546538383914, 0.4692179234724982]\n",
      "mean mae for size [0,1,2,3] is [1.0770056437205717, 0.9963221267184282, 1.0557584542178302, 0.9833176027859447]\n",
      "\n",
      "********************* Undirected || Seed 1 *****************************\n",
      "[173, 421, 859, 3155]\n",
      "mean mrr for size [0,1,2,3] is [0.29880736133008334, 0.2879804697799145, 0.2675053745430132, 0.2977684174624468]\n",
      "mean mae for size [0,1,2,3] is [1.0830393208761435, 0.9677874407600479, 1.042427352500583, 0.9802021971075735]\n",
      "\n",
      "********************* Directed || Seed 1 *****************************\n",
      "[173, 421, 859, 3155]\n",
      "mean mrr for size [0,1,2,3] is [0.4779844937383095, 0.4739571779152277, 0.4383542962302915, 0.498074069384208]\n",
      "mean mae for size [0,1,2,3] is [1.0919645147861083, 0.9966005474824521, 1.059014658607343, 0.9918681681522193]\n",
      "\n",
      "********************* Undirected || Seed 2 *****************************\n",
      "[173, 421, 859, 3155]\n",
      "mean mrr for size [0,1,2,3] is [0.27539193259842826, 0.28713494978154924, 0.2643554206152595, 0.31307110448032854]\n",
      "mean mae for size [0,1,2,3] is [1.0844400286502232, 0.9690157185151571, 1.0400080405093288, 0.9798148554574149]\n",
      "\n",
      "********************* Directed || Seed 2 *****************************\n",
      "[173, 421, 859, 3155]\n",
      "mean mrr for size [0,1,2,3] is [0.4559037808565735, 0.46891110109037004, 0.4427107885670745, 0.48898483975517393]\n",
      "mean mae for size [0,1,2,3] is [1.0897667866221743, 1.021468353207774, 1.0573762622472154, 0.9915744808651566]\n"
     ]
    }
   ],
   "source": [
    "mrr_undir , mrr_dir , mae_undir, mae_dir = [],[],[],[]\n",
    "for seed in range(4):\n",
    "    for folder in valid_folders:\n",
    "        if 'seed'+str(seed) in folder:\n",
    "            if 'dir' in folder:\n",
    "                print(f'\\n********************* Directed || Seed {seed} *****************************')\n",
    "                test_iterator = Iterator(os.path.join(subpath,folder,arg[folder+\"_test\"]))\n",
    "                result = get_size_ablation(test_iterator)\n",
    "                mrr_dir.append(result[0])\n",
    "                mae_dir.append(result[1])\n",
    "            else:\n",
    "                print(f'\\n********************* Undirected || Seed {seed} *****************************')\n",
    "                test_iterator = Iterator(os.path.join(subpath,folder,arg[folder+\"_test\"]))\n",
    "                result = get_size_ablation(test_iterator)\n",
    "                mrr_undir.append(result[0])\n",
    "                mae_undir.append(result[1])\n"
   ]
  },
  {
   "cell_type": "code",
   "execution_count": 97,
   "metadata": {},
   "outputs": [
    {
     "data": {
      "image/png": "[encoded data removed]",
      "text/plain": [
       "<Figure size 288x288 with 1 Axes>"
      ]
     },
     "metadata": {
      "needs_background": "light"
     },
     "output_type": "display_data"
    }
   ],
   "source": [
    "mrr_undir_mean, mrr_undir_std = np.mean(mrr_undir,axis =0) , np.std(mrr_undir, axis = 0)\n",
    "mrr_dir_mean, mrr_dir_std = np.mean(mrr_dir,axis =0) , np.std(mrr_dir, axis = 0)\n",
    "barWidth = 0.25\n",
    "fig = plt.subplots(figsize =(4, 4))\n",
    "x1 = np.arange(mrr_undir_mean.shape[0])\n",
    "x2 = [x + barWidth for x in x1]\n",
    " \n",
    "# Make the plot\n",
    "plt.bar(x1, mrr_undir_mean, yerr= mrr_undir_std, width = barWidth,\n",
    "        edgecolor ='grey', label =r'\\textbf{HyperNodeTPP}')\n",
    "plt.bar(x2, mrr_dir_mean, yerr= mrr_dir_std, width = barWidth,\n",
    "        edgecolor ='grey', label =r'\\textbf{DHyperNodeTPP}')\n",
    "\n",
    "plt.xticks([r + barWidth/2 for r in range(len(x1))],\n",
    "        [r'2', r'3-4', r'5-8', r'$\\geq$9'], fontweight ='bold',fontsize = 15)\n",
    "legend_properties = {'weight':'bold'}\n",
    "plt.legend(prop=legend_properties, ncol = 2, loc=[-0.06,1])\n",
    "plt.xlabel(r'\\textbf{Size of Hyperedge ($\\mathbf{k^r + k^l}$)}',fontsize = 15)\n",
    "plt.ylabel(r'\\textbf{MRR}',fontsize = 15)\n",
    "plt.yticks(fontweight ='bold',fontsize = 15)\n",
    "pathlib.Path(f\"./Plots/{files[arg['fileID']]}\").mkdir(parents=True,exist_ok=True)\n",
    "plt.savefig(f\"./Plots/{files[arg['fileID']]}/mrr.pdf\",bbox_inches='tight', dpi = 1000, pad_inches=0)\n",
    "plt.show()\n",
    "\n"
   ]
  },
  {
   "cell_type": "code",
   "execution_count": 98,
   "metadata": {},
   "outputs": [
    {
     "data": {
      "image/png": "[encoded data removed]",
      "text/plain": [
       "<Figure size 288x288 with 1 Axes>"
      ]
     },
     "metadata": {
      "needs_background": "light"
     },
     "output_type": "display_data"
    }
   ],
   "source": [
    "mae_undir_mean, mae_undir_std = np.mean(mae_undir,axis =0) , np.std(mae_undir, axis = 0)\n",
    "mae_dir_mean, mae_dir_std = np.mean(mae_dir,axis =0) , np.std(mae_dir, axis = 0)\n",
    "\n",
    "barWidth = 0.25\n",
    "fig = plt.subplots(figsize =(4, 4))\n",
    "x1 = np.arange(mae_undir_mean.shape[0])\n",
    "x2 = [x + barWidth for x in x1]\n",
    " \n",
    "# Make the plot\n",
    "plt.bar(x1, mae_undir_mean, yerr= mae_undir_std, width = barWidth,\n",
    "        edgecolor ='grey', label =r'\\textbf{HyperNodeTPP}')\n",
    "plt.bar(x2, mae_dir_mean, yerr= mae_dir_std, width = barWidth,\n",
    "        edgecolor ='grey', label =r\"\\textbf{DHyperNodeTPP}\")\n",
    "\n",
    "# plt.xticks(np.array(x1)+barWidth/2, x1)\n",
    "plt.xticks([r + barWidth/2 for r in range(len(x1))],\n",
    "        [r'2', r'3-4', r'5-8', r'$\\geq$9'], fontweight ='bold', fontsize = 15)\n",
    "legend_properties = {'weight':'bold'}\n",
    "plt.legend(prop=legend_properties, ncol = 2, loc=[-0.06,1])\n",
    "plt.xlabel(r'\\textbf{Size of Hyperedge ($\\mathbf{k^r + k^l}$)}', fontsize = 15)\n",
    "plt.ylabel(r'\\textbf{MAE}', fontsize = 15)\n",
    "plt.yticks(fontweight ='bold',fontsize= 15)\n",
    "pathlib.Path(f\"./Plots/{files[arg['fileID']]}\").mkdir(parents=True,exist_ok=True)\n",
    "plt.savefig(f\"./Plots/{files[arg['fileID']]}/mae.pdf\",bbox_inches='tight', dpi = 1000, pad_inches=0)\n",
    "plt.show()"
   ]
  },
  {
   "attachments": {},
   "cell_type": "markdown",
   "metadata": {},
   "source": [
    "## SIZE AUC PLOT"
   ]
  },
  {
   "cell_type": "code",
   "execution_count": 44,
   "metadata": {},
   "outputs": [
    {
     "data": {
      "image/png": "[encoded data removed]",
      "text/plain": [
       "<Figure size 288x288 with 1 Axes>"
      ]
     },
     "metadata": {
      "needs_background": "light"
     },
     "output_type": "display_data"
    }
   ],
   "source": [
    "files = ['Enron-Email', 'Eu-Email', 'Hepth', 'ML-Arxiv', 'Twitter']\n",
    "size_ovr_macro_undir_mean = [0.56473907,0.639701, 0.60047175, 0.5931605, 0.63288225]\n",
    "size_ovr_macro_undir_std = [0.01699041, 0.003585001, 0.004066293, 0.021689696, 0.018652199 ]\n",
    "size_ovr_macro_dir_mean = [0.578432424, 0.669392333, 0.71519375, 0.67425825, 0.83602225]\n",
    "size_ovr_macro_dir_std =[0.046065349, 0.027948615, 0.003275947, 0.007731285, 0.007626184]\n",
    "\n",
    "barWidth = 0.25\n",
    "fig = plt.subplots(figsize =(4, 4))\n",
    "x1 = np.arange(len(files))\n",
    "x2 = [x + barWidth for x in x1]\n",
    " \n",
    "# Make the plot\n",
    "plt.bar(x1, size_ovr_macro_undir_mean, yerr= size_ovr_macro_undir_std, width = barWidth,\n",
    "        edgecolor ='grey', label =r'\\textbf{HyperNodeTPP}')\n",
    "plt.bar(x2, size_ovr_macro_dir_mean, yerr= size_ovr_macro_dir_std, width = barWidth,\n",
    "        edgecolor ='grey', label =r'\\textbf{DHyperNodeTPP}')\n",
    "\n",
    "plt.xticks([r + barWidth/2 for r in range(len(x1))],\n",
    "        files, fontweight ='bold',rotation = 30, fontsize = 15)\n",
    "legend_properties = {'weight':'bold'}\n",
    "plt.legend(prop=legend_properties, ncol = 2, loc=[-0.035,1])\n",
    "plt.ylabel(r'\\textbf{AUC-Macro}', fontsize = 15)\n",
    "plt.yticks(fontweight ='bold', fontsize = 15)\n",
    "pathlib.Path(f\"./Plots/\").mkdir(parents=True,exist_ok=True)\n",
    "plt.savefig(f\"./Plots/size_auc_ovr_macro.pdf\",bbox_inches='tight', dpi = 1000, pad_inches=0)\n",
    "plt.show()"
   ]
  },
  {
   "cell_type": "code",
   "execution_count": 45,
   "metadata": {},
   "outputs": [
    {
     "data": {
      "image/png": "[encoded data removed]",
      "text/plain": [
       "<Figure size 288x288 with 1 Axes>"
      ]
     },
     "metadata": {
      "needs_background": "light"
     },
     "output_type": "display_data"
    }
   ],
   "source": [
    "size_ovr_micro_undir_mean = [0.915937363,0.919895, 0.66333425, 0.87447175, 0.66333425]\n",
    "size_ovr_micro_undir_std = [0.001477484, 0.004046901, 0.017296771, 0.00101608, 0.003015756 ]\n",
    "size_ovr_micro_dir_mean = [0.967182343, 0.981192, 0.800721, 0.8799245, 0.94755675]\n",
    "size_ovr_micro_dir_std =[0.001236461, 0.000573192, 0.001755684, 0.001762374, 0.001214482]\n",
    "\n",
    "barWidth = 0.25\n",
    "fig = plt.subplots(figsize =(4, 4))\n",
    "x1 = np.arange(len(files))\n",
    "x2 = [x + barWidth for x in x1]\n",
    " \n",
    "# Make the plot\n",
    "plt.bar(x1, size_ovr_micro_undir_mean, yerr= size_ovr_micro_undir_std, width = barWidth,\n",
    "        edgecolor ='grey', label =r'\\textbf{HyperNodeTPP}')\n",
    "plt.bar(x2, size_ovr_micro_dir_mean, yerr= size_ovr_micro_dir_std, width = barWidth,\n",
    "        edgecolor ='grey', label =r'\\textbf{DHyperNodeTPP}')\n",
    "plt.xticks([r + barWidth/2 for r in range(len(x1))],\n",
    "        files, fontweight ='bold',rotation = 30, fontsize = 15)\n",
    "legend_properties = {'weight':'bold'}\n",
    "plt.legend(prop=legend_properties, ncol = 2, loc=[-0.035,1])\n",
    "plt.ylabel(r'\\textbf{AUC-Micro}', fontsize = 15)\n",
    "plt.yticks(fontweight ='bold', fontsize = 15)\n",
    "\n",
    "pathlib.Path(f\"./Plots/\").mkdir(parents=True,exist_ok=True)\n",
    "plt.savefig(f\"./Plots/size_auc_ovr_micro.pdf\",bbox_inches='tight', dpi = 500, pad_inches=0)\n",
    "plt.show()"
   ]
  },
  {
   "cell_type": "code",
   "execution_count": 46,
   "metadata": {},
   "outputs": [
    {
     "data": {
      "image/png": "[encoded data removed]",
      "text/plain": [
       "<Figure size 288x288 with 1 Axes>"
      ]
     },
     "metadata": {
      "needs_background": "light"
     },
     "output_type": "display_data"
    }
   ],
   "source": [
    "### Plotting  Time \n",
    "## OUR MODEL\n",
    "size_ovr_micro_undir_mean = [2.3597, 2.508101325, 5.695910548, 2.580070827, 2.5778881]\n",
    "size_ovr_micro_undir_std = [0.7632, 0.183929777, 2.228883686, 0.454268633, 0.28474176 ]\n",
    "size_ovr_micro_dir_mean = [3.2620181215220483, 5.197882716, 8.670453479, 4.626798868, 2.988068932]\n",
    "size_ovr_micro_dir_std =[0.36234001986054987, 1.410137911, 3.129809754, 0.751714422, 0.376469224]\n",
    "\n",
    "## HGDHE - HGBDHE\n",
    "size_ovr_micro_undir_mean1 = [2.909767220760214, 3.118877832547273, 3.1242078695541773, 3.1340121957990856, 3.590806934568617]\n",
    "size_ovr_micro_undir_std1 = [0.16950381721862082, 0.06274417695836622, 0.21531041494741357,0.19177928263871086 , 0.2106653311514322 ]\n",
    "size_ovr_micro_dir_mean1 = [5.328568585987749, 5.664541361060473, 5.642748851042527, 5.863540341456731, 6.084951122601827]\n",
    "size_ovr_micro_dir_std1 =[0.18556093825235265, 0.07157830632360304, 0.23261645288861316, 0.18142494277780324, 0.21849653613827758]\n",
    "\n",
    "\n",
    "barWidth = 0.18\n",
    "fig = plt.subplots(figsize =(4, 4))\n",
    "x1 = np.arange(len(files))\n",
    "x2 = [x + barWidth for x in x1]\n",
    "x3 = [x + barWidth for x in x2]\n",
    "x4 = [x + barWidth for x in x3]\n",
    " \n",
    "# Make the plot\n",
    "plt.bar(x1, size_ovr_micro_undir_mean, yerr= size_ovr_micro_undir_std, width = barWidth,\n",
    "        edgecolor ='grey', label =r'\\textbf{HyperNodeTPP}')\n",
    "plt.bar(x2, size_ovr_micro_dir_mean, yerr= size_ovr_micro_dir_std, width = barWidth,\n",
    "        edgecolor ='grey', label =r'\\textbf{DHyperNodeTPP}')\n",
    "\n",
    "plt.bar(x3, size_ovr_micro_undir_mean1, yerr= size_ovr_micro_undir_std1, width = barWidth,\n",
    "        edgecolor ='grey', label =r'\\textbf{HGDHE}')\n",
    "plt.bar(x4, size_ovr_micro_dir_mean1, yerr= size_ovr_micro_dir_std1, width = barWidth,\n",
    "        edgecolor ='grey', label =r'\\textbf{HGBDHE}')\n",
    "\n",
    "plt.xticks([r + barWidth for r in range(len(x1))],\n",
    "        files, fontweight ='bold',rotation = 30, fontsize = 15)\n",
    "legend_properties = {'weight':'bold', 'size' :10.6}\n",
    "plt.legend(prop=legend_properties, ncol = 2, loc=[0,1])\n",
    "plt.ylabel(r'\\textbf{Time(sec)}', fontsize = 15)\n",
    "plt.yticks(fontweight ='bold', fontsize = 15)\n",
    "\n",
    "pathlib.Path(f\"./Plots/\").mkdir(parents=True,exist_ok=True)\n",
    "plt.savefig(f\"./Plots/time.pdf\",bbox_inches='tight', dpi = 500, pad_inches=0)\n",
    "plt.show()"
   ]
  },
  {
   "cell_type": "code",
   "execution_count": null,
   "metadata": {},
   "outputs": [],
   "source": []
  }
 ],
 "metadata": {
  "kernelspec": {
   "display_name": "Python 3 (ipykernel)",
   "language": "python",
   "name": "python3"
  },
  "language_info": {
   "codemirror_mode": {
    "name": "ipython",
    "version": 3
   },
   "file_extension": ".py",
   "mimetype": "text/x-python",
   "name": "python",
   "nbconvert_exporter": "python",
   "pygments_lexer": "ipython3",
   "version": "3.9.17"
  }
 },
 "nbformat": 4,
 "nbformat_minor": 2
}
