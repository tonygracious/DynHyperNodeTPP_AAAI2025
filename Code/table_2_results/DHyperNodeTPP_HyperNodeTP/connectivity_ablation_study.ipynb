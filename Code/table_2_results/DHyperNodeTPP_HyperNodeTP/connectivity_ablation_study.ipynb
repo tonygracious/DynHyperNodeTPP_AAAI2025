{
 "cells": [
  {
   "cell_type": "code",
   "execution_count": 2,
   "metadata": {},
   "outputs": [],
   "source": [
    "import pandas as pd\n",
    "import matplotlib.pyplot as plt\n",
    "from tqdm import tqdm\n",
    "import numpy as np\n",
    "from DataLoader.Dataloader import HyperEdgeDataset\n",
    "from DataLoader.Dataloader_directed import HyperDiEdgeDataset\n",
    "from itertools import chain\n",
    "import seaborn as sns\n",
    "import pathlib\n",
    "import os\n",
    "plt.rcParams['text.usetex'] = True\n",
    "\n",
    "resultpath ='nodeevent_directed/'\n",
    "files = ['enron', 'eumail', 'hepth', 'arxiv', 'twitter']\n"
   ]
  },
  {
   "cell_type": "code",
   "execution_count": 3,
   "metadata": {},
   "outputs": [],
   "source": [
    "## Created Custom Iterator For Getting Conn Probability from Text or CSV File\n",
    "class IteratorForConnProb:\n",
    "    def __init__(self, filepath, dtype , mtype) -> None:\n",
    "        if 'csv' == filepath[-3:]:\n",
    "            self.file = pd.read_csv(filepath)\n",
    "            self.cur_index = 0\n",
    "            self.ftype = 'csv'\n",
    "        else:\n",
    "            with open(filepath,'r') as f:\n",
    "                self.file = f.readlines()\n",
    "            self.cur_index = 1\n",
    "            self.ftype = 'txt'\n",
    "        self.dtype = dtype\n",
    "        self.mtype = mtype\n",
    "        self.filesize = len(self.file)\n",
    "        \n",
    "\n",
    "    def getNext(self):\n",
    "        self.cur_index +=1\n",
    "        if self.ftype == 'csv':\n",
    "            if self.mtype == 'undirected':\n",
    "                return (self.file['right_size'][self.cur_index - 1], self.file['left_size'][self.cur_index - 1] ,  self.file['Conn Proba'][self.cur_index - 1].split())\n",
    "            elif self.mtype == 'directed':\n",
    "                return (self.file['right_size'][self.cur_index - 1], self.file['left_size'][self.cur_index - 1] , self.file['Conn Proba Right'][self.cur_index - 1].split() , self.file['Conn Proba Left'][self.cur_index - 1].split())\n",
    "            else:\n",
    "                raise NotImplementedError\n",
    "        else:\n",
    "            cur_result = self.file[self.cur_index - 1].split(', ')\n",
    "            if self.mtype == 'undirected':\n",
    "                return (int(cur_result[1].strip()), int(cur_result[2].strip()), cur_result[-1].strip()[1:-2].split())\n",
    "            elif self.mtype == 'directed':\n",
    "                return (int(cur_result[1].strip()), int(cur_result[2].strip()), cur_result[-2].strip()[1:-2].split() , cur_result[-1].strip()[1:-2].split())\n",
    "            else:\n",
    "                raise NotImplementedError\n",
    "\n",
    "    def hasNext(self):\n",
    "        return self.cur_index < self.filesize\n",
    "    \n"
   ]
  },
  {
   "cell_type": "code",
   "execution_count": 4,
   "metadata": {},
   "outputs": [],
   "source": [
    "\n",
    "def recall_at_K(edge, top_k):\n",
    "    recall = np.zeros(len(edge))\n",
    "    for i, node in enumerate(edge):\n",
    "        recall[i] = len(np.intersect1d(edge, top_k[i])) / (len(edge)-1)\n",
    "    return recall\n",
    "def recall_at_k_dir(edge, top_k):\n",
    "    recall = np.zeros(len(edge[0]))\n",
    "    for i, node in enumerate(edge[0]):\n",
    "        recall[i] = len(np.intersect1d(edge[1], top_k[i])) / len(edge[1])\n",
    "    return recall\n",
    "\n"
   ]
  },
  {
   "cell_type": "code",
   "execution_count": 5,
   "metadata": {},
   "outputs": [],
   "source": [
    "\n",
    "def get_metric_result_for_undir(data, iterator, index_start,directed= False):\n",
    "    soft_jaccard = []\n",
    "    K = [int(i * 0.01 * data.n_nodes) for i in range(5, 50, 5)]\n",
    "    recall  = [[] for i in range(len(K))] \n",
    "    cur_index = index_start\n",
    "\n",
    "    while iterator.hasNext():\n",
    "        edge,  time_cur, time_prev, connectives  = data.__getitem__(cur_index)\n",
    "        cur_index += 1\n",
    "        conn_pred_data = iterator.getNext()\n",
    "        assert conn_pred_data[0] == len(edge[0]) and conn_pred_data[1] == len(edge[1])\n",
    "        if directed:\n",
    "            edge = edge[0] + edge[1]\n",
    "        v_onehot = np.eye(data.n_nodes)[edge]\n",
    "        conn_pred = np.array(list(map(float, conn_pred_data[2]))).reshape(-1, data.n_nodes+1)[:len(edge),1:]\n",
    "        if cur_index == -37124:\n",
    "            print(iterator.cur_index,edge, conn_pred.shape, v_onehot.shape)\n",
    "        conn_pred = conn_pred * (1-v_onehot)\n",
    "        connectives = np.array(connectives)\n",
    "        arg_sort_conn_pred = np.argsort(conn_pred , axis = -1)\n",
    "        ## soft jaccard score\n",
    "        copy_conn_pred = np.copy(conn_pred)\n",
    "        copy_conn_pred[np.expand_dims(np.arange(len(edge)), -1) ,arg_sort_conn_pred[:, :-(len(edge)-1)]] = 0\n",
    "        intersect = (copy_conn_pred * connectives).sum(axis = 1)\n",
    "        union = (copy_conn_pred).sum(axis = 1) + connectives.sum(axis = 1) - intersect\n",
    "        soft_jaccard.append(intersect / union)\n",
    "\n",
    "        ## Hit@K where K = % of nnodes\n",
    "        ## K = 10%\n",
    "        if connectives.sum() > 0:\n",
    "            for idx, k in enumerate(K):\n",
    "                top_k = arg_sort_conn_pred[:, -k:]\n",
    "                recall[idx].append(recall_at_K(edge,top_k))\n",
    "        \n",
    "    micro_recall = [np.mean(list(chain(*recall[j]))) for j in range(len(K))]\n",
    "    print('Average Jaccard Score (MICRO)' , np.mean(list(chain(*soft_jaccard))))\n",
    "    print('Average Jaccard Score (MACRO)' , np.mean([ np.mean(a ) for a in soft_jaccard]))\n",
    "    print(f'Averge Recall@K Score (MICRO) for k = {K} is ', micro_recall)\n",
    "    return micro_recall\n"
   ]
  },
  {
   "cell_type": "code",
   "execution_count": 6,
   "metadata": {},
   "outputs": [],
   "source": [
    "\n",
    "def get_metric_result_for_dir(data, iterator, index_start, onlyleft= False):\n",
    "    soft_jaccard_right, soft_jaccard_left = [],[]\n",
    "    K = [int(i * 0.01 *  data.n_nodes) for i in range(5, 50, 5)]\n",
    "    recall_right , recall_left  = [[] for i in range(len(K))] , [[] for i in range(len(K))] \n",
    "    cur_index = index_start\n",
    "\n",
    "    while iterator.hasNext():\n",
    "        edge,  time_cur, time_prev, connectives  = data.__getitem__(cur_index)\n",
    "        cur_index +=1\n",
    "        conn_prob_data = iterator.getNext()\n",
    "        # assert conn_prob_data[0] == len(edge[0]) and conn_prob_data[1] == len(edge[1])\n",
    "        ## right\n",
    "        if not onlyleft and len(edge[0]) > 1:\n",
    "            v_onehot = np.eye( data.n_nodes)[edge[0]]\n",
    "            conn_pred_right = np.array(list(map(float, conn_prob_data[2]))).reshape(-1, data.n_nodes+1)[:len(edge[0]),1:]\n",
    "            conn_pred_right = conn_pred_right * (1-v_onehot)\n",
    "            connectives_right = np.array(connectives[0])\n",
    "            arg_sort_conn_pred_right = np.argsort(conn_pred_right, axis = -1)\n",
    "            ## soft jaccard score\n",
    "            copy_conn_pred_right = np.copy(conn_pred_right)\n",
    "            copy_conn_pred_right[np.expand_dims(np.arange(len(edge[0])), -1) ,arg_sort_conn_pred_right[:, :-(len(edge[0])-1)]] = 0\n",
    "            intersect = (copy_conn_pred_right * connectives_right).sum(axis = 1)\n",
    "            union = (copy_conn_pred_right).sum(axis = 1) + connectives_right.sum(axis = 1) - intersect\n",
    "            soft_jaccard_right.append(intersect / union)\n",
    "\n",
    "            ## Hit@K where K = % of nnodes\n",
    "            ## K = 10%\n",
    "            for idx, k in enumerate(K):\n",
    "                top_k = arg_sort_conn_pred_right[:, -k:]\n",
    "                recall_right[idx].append(recall_at_K(edge[0],top_k))\n",
    "            \n",
    "\n",
    "        ## LEFT\n",
    "        conn_pred_left = np.array(list(map(float, conn_prob_data[3]))).reshape(-1, data.n_nodes+1)[:len(edge[0]),1:]\n",
    "        connectives_left = np.array(connectives[1])\n",
    "        arg_sort_conn_pred_left = np.argsort(conn_pred_left, axis = -1)\n",
    "        ## soft jaccard score\n",
    "        copy_conn_pred_left = np.copy(conn_pred_left)\n",
    "        copy_conn_pred_left[np.expand_dims(np.arange(len(edge[0])), -1) ,arg_sort_conn_pred_left[:, :-(len(edge[0])-1)]] = 0\n",
    "        intersect = (copy_conn_pred_left * connectives_left).sum(axis = 1)\n",
    "        union = (copy_conn_pred_left).sum(axis = 1) + connectives_left.sum(axis = 1) - intersect\n",
    "        soft_jaccard_left.append(intersect / union)\n",
    "\n",
    "        ## Hit@K where K = % of nnodes\n",
    "        ## K = 10%\n",
    "        for idx, k in enumerate(K):\n",
    "            top_k = arg_sort_conn_pred_left[:, -k:]\n",
    "            recall_left[idx].append(recall_at_k_dir(edge,top_k))\n",
    "            \n",
    "    \n",
    "    micro_jacc = np.mean(list(chain(*soft_jaccard_left)))\n",
    "    macro_jacc = np.mean([ np.mean(a ) for a in soft_jaccard_left])\n",
    "    micro_recall = [np.mean(list(chain(*recall_left[j]))) for j in range(len(K))]\n",
    "\n",
    "    if not onlyleft:\n",
    "        micro_jacc_right = np.mean(list(chain(*soft_jaccard_right)))\n",
    "        macro_jacc_right = np.mean([ np.mean(a ) for a in soft_jaccard_right])\n",
    "        micro_recall_right = [np.mean(list(chain(*recall_right[j]))) for j in range(len(K))]\n",
    "      \n",
    "        micro_jacc = (micro_jacc + micro_jacc_right)/2\n",
    "        macro_jacc = (macro_jacc + macro_jacc_right)/2\n",
    "        micro_recall = [(micro_recall[j] + micro_recall_right[j])/2 for j in range(len(K)) ]\n",
    "\n",
    "\n",
    "        \n",
    "    print('Average Jaccard Score (MICRO)' , micro_jacc )\n",
    "    print('Average Jaccard Score (MACRO)' , macro_jacc)\n",
    "    \n",
    "    print(f'Averge Recall@K Score (MICRO) for k = {K} is ', micro_recall)\n",
    "    return micro_recall\n",
    " "
   ]
  },
  {
   "attachments": {},
   "cell_type": "markdown",
   "metadata": {},
   "source": [
    "## ENRON"
   ]
  },
  {
   "cell_type": "code",
   "execution_count": 6,
   "metadata": {},
   "outputs": [],
   "source": [
    "## Enron\n",
    "arg ={}\n",
    "arg['fileID'] = 0   ## Enter dataset ID here \n",
    "arg['onlyleft'] = True ## If only left side is consider in directed dataset\n"
   ]
  },
  {
   "cell_type": "code",
   "execution_count": 7,
   "metadata": {},
   "outputs": [],
   "source": [
    "valid_folders = [files[arg['fileID']]+\"_alpha0.3seed\"+str(i) for i in range(4)] + [files[arg['fileID']]+\"_dir_alpha0.3seed\"+str(i) for i in range(4)]\n",
    "subpath =  os.path.join(resultpath,files[arg['fileID']])\n",
    "for folder in os.listdir(subpath):\n",
    "    if folder in valid_folders:\n",
    "        for file in os.listdir(os.path.join(subpath,folder)):\n",
    "            if file.endswith('train.csv') or file.endswith('train.txt') : arg[folder+'_train'] = file\n",
    "            elif file.endswith('valid.csv') or file.endswith('valid.txt'): arg[folder+'_valid'] = file\n",
    "            elif  file.endswith('test.csv') or file.endswith('test.txt'): arg[folder+'_test'] = file"
   ]
  },
  {
   "cell_type": "code",
   "execution_count": 9,
   "metadata": {},
   "outputs": [
    {
     "name": "stdout",
     "output_type": "stream",
     "text": [
      "No of isolated nodes 0\n"
     ]
    },
    {
     "name": "stdout",
     "output_type": "stream",
     "text": [
      "No of isolated nodes 0\n"
     ]
    }
   ],
   "source": [
    "file_Id = arg['fileID']\n",
    "path = './directed_datasets/'\n",
    "step = None\n",
    "if files[file_Id] == 'enron':\n",
    "    file_name = path + 'enron/'\n",
    "elif files[file_Id] == 'eumail':\n",
    "    file_name = path + 'eumail/'\n",
    "elif files[file_Id] == 'hepth':\n",
    "    file_name = path + 'hepth/'\n",
    "elif files[file_Id] == 'arxiv':\n",
    "    file_name = path + 'arxiv_25/'\n",
    "    #step = 60 * 60\n",
    "elif files[file_Id] == 'twitter':\n",
    "    file_name = path + 'twitter/'\n",
    "else:\n",
    "    raise \"Not implemented for the rest of the dataset\"\n",
    "data_dir = HyperDiEdgeDataset(file_name, step, type='directed')  # model type is directed\n",
    "data_undir = HyperDiEdgeDataset(file_name, step, type='undirected') # model type is undirected\n",
    "\n",
    "assert data_dir.n_nodes == data_undir.n_nodes\n",
    "nnodes = data_dir.n_nodes"
   ]
  },
  {
   "cell_type": "code",
   "execution_count": 10,
   "metadata": {},
   "outputs": [
    {
     "name": "stdout",
     "output_type": "stream",
     "text": [
      "\n",
      "********************* Undirected || Seed 0 *****************************\n"
     ]
    },
    {
     "name": "stdout",
     "output_type": "stream",
     "text": [
      "Average Jaccard Score (MICRO) 0.08503909274817949\n",
      "Average Jaccard Score (MACRO) 0.06943492490802858\n",
      "Averge Recall@K Score (MICRO) for k = [7, 14, 21, 28, 35, 42, 50, 57, 64] is  [0.29892499311662923, 0.47356092296338975, 0.596199732804089, 0.6858133019184408, 0.7488867688207876, 0.7975531602410522, 0.840298203358177, 0.8696774113644317, 0.8896769556425872]\n",
      "\n",
      "********************* Directed || Seed 0 *****************************\n",
      "Average Jaccard Score (MICRO) 0.027454292710811286\n",
      "Average Jaccard Score (MACRO) 0.027454292710811286\n",
      "Averge Recall@K Score (MICRO) for k = [7, 14, 21, 28, 35, 42, 50, 57, 64] is  [0.3062916520375759, 0.48245133758652786, 0.5993038592345658, 0.6865024373523014, 0.7509677171912226, 0.8037605571637502, 0.8546810033263837, 0.8804027140708527, 0.906557606921058]\n",
      "\n",
      "********************* Undirected || Seed 1 *****************************\n",
      "Average Jaccard Score (MICRO) 0.05112065428821647\n",
      "Average Jaccard Score (MACRO) 0.032892818696461774\n",
      "Averge Recall@K Score (MICRO) for k = [7, 14, 21, 28, 35, 42, 50, 57, 64] is  [0.19092193722366077, 0.3185699508448039, 0.4779900827777525, 0.5919351708864534, 0.6858300393332306, 0.754664996032654, 0.8274925520238414, 0.8706475927461992, 0.9001933357752171]\n",
      "\n",
      "********************* Directed || Seed 1 *****************************\n",
      "Average Jaccard Score (MICRO) 0.02962750148712382\n",
      "Average Jaccard Score (MACRO) 0.02962750148712382\n",
      "Averge Recall@K Score (MICRO) for k = [7, 14, 21, 28, 35, 42, 50, 57, 64] is  [0.34388054500350695, 0.5111927548598744, 0.629511324386664, 0.7159284118030721, 0.7778653669574186, 0.8257014823944171, 0.8663200886899937, 0.8918008132794139, 0.9099983570550826]\n",
      "\n",
      "********************* Undirected || Seed 2 *****************************\n",
      "Average Jaccard Score (MICRO) 0.0996874422336588\n",
      "Average Jaccard Score (MACRO) 0.07438684384170131\n",
      "Averge Recall@K Score (MICRO) for k = [7, 14, 21, 28, 35, 42, 50, 57, 64] is  [0.33995231067079384, 0.5083742046349242, 0.6275314628699915, 0.7183227163683502, 0.7789923435473919, 0.8206246473794296, 0.857323827641784, 0.8809362807398365, 0.9024602742397995]\n",
      "\n",
      "********************* Directed || Seed 2 *****************************\n",
      "Average Jaccard Score (MICRO) 0.034078447315519636\n",
      "Average Jaccard Score (MACRO) 0.034078447315519636\n",
      "Averge Recall@K Score (MICRO) for k = [7, 14, 21, 28, 35, 42, 50, 57, 64] is  [0.32650319438261016, 0.5051038487227346, 0.6298779693535128, 0.7018280565926626, 0.7568594635914608, 0.7990595939009661, 0.8429435613701918, 0.8713507952142464, 0.8980679458675382]\n",
      "\n",
      "********************* Undirected || Seed 3 *****************************\n",
      "Average Jaccard Score (MICRO) 0.0891414228804892\n",
      "Average Jaccard Score (MACRO) 0.0745491214509031\n",
      "Averge Recall@K Score (MICRO) for k = [7, 14, 21, 28, 35, 42, 50, 57, 64] is  [0.3200258241892965, 0.47085860819447517, 0.5717489765254933, 0.6526871184160516, 0.7158063078825612, 0.7626754347068883, 0.8130596664021221, 0.8448165829981626, 0.8726839392085838]\n",
      "\n",
      "********************* Directed || Seed 3 *****************************\n",
      "Average Jaccard Score (MICRO) 0.03620879390703349\n",
      "Average Jaccard Score (MACRO) 0.03620879390703349\n",
      "Averge Recall@K Score (MICRO) for k = [7, 14, 21, 28, 35, 42, 50, 57, 64] is  [0.40809782916610365, 0.6049585784083066, 0.6937317497568856, 0.7386348199782302, 0.776452127419179, 0.8141185712561392, 0.851339444170966, 0.8762358962620511, 0.8959948937938068]\n"
     ]
    }
   ],
   "source": [
    "micro_recall_dir, micro_recall_undir = [], []\n",
    "for seed in range(4):\n",
    "    for folder in valid_folders:\n",
    "        if 'seed'+str(seed) in folder:\n",
    "            if 'dir' in folder:\n",
    "                print(f'\\n********************* Directed || Seed {seed} *****************************')\n",
    "                train_iterator = IteratorForConnProb(os.path.join(subpath,folder,arg[folder+\"_train\"]), dtype= 'directed', mtype= 'directed' )\n",
    "                valid_iterator = IteratorForConnProb(os.path.join(subpath,folder,arg[folder+\"_valid\"]), dtype= 'directed', mtype= 'directed')\n",
    "                test_index_start = train_iterator.filesize + valid_iterator.filesize\n",
    "                del valid_iterator, train_iterator\n",
    "                if arg[folder+\"_train\"].endswith('.txt'):\n",
    "                    test_index_start -=2\n",
    "                test_iterator = IteratorForConnProb(os.path.join(subpath,folder,arg[folder+\"_test\"]), dtype= 'directed', mtype= 'directed')\n",
    "                micro_recall_dir.append(get_metric_result_for_dir(data_dir,test_iterator, test_index_start, onlyleft=arg['onlyleft']))\n",
    "            else:\n",
    "                print(f'\\n********************* Undirected || Seed {seed} *****************************')\n",
    "\n",
    "                train_iterator = IteratorForConnProb(os.path.join(subpath,folder,arg[folder+\"_train\"]), dtype= 'directed', mtype= 'undirected' )\n",
    "                valid_iterator = IteratorForConnProb(os.path.join(subpath,folder,arg[folder+\"_valid\"]), dtype= 'directed', mtype= 'undirected')\n",
    "                test_index_start = train_iterator.filesize + valid_iterator.filesize\n",
    "                if arg[folder+\"_train\"].endswith('.txt'):\n",
    "                    test_index_start -=2\n",
    "                del valid_iterator, train_iterator\n",
    "                test_iterator = IteratorForConnProb(os.path.join(subpath,folder,arg[folder+\"_test\"]), dtype= 'directed', mtype= 'undirected')\n",
    "                micro_recall_undir.append(get_metric_result_for_undir(data_undir, test_iterator, test_index_start, directed=True))\n",
    "\n"
   ]
  },
  {
   "cell_type": "code",
   "execution_count": 11,
   "metadata": {},
   "outputs": [],
   "source": [
    "micro_recall_undir = np.array(micro_recall_undir)\n",
    "micro_recall_undir_mean, micro_recall_undir_std = np.mean(micro_recall_undir,axis =0) , np.std(micro_recall_undir, axis = 0)\n",
    "micro_recall_dir = np.array(micro_recall_dir)\n",
    "micro_recall_dir_mean, micro_recall_dir_std = np.mean(micro_recall_dir,axis =0) , np.std(micro_recall_dir, axis = 0)"
   ]
  },
  {
   "cell_type": "code",
   "execution_count": 12,
   "metadata": {},
   "outputs": [
    {
     "data": {
      "image/png": "[encoded data removed]",
      "text/plain": [
       "<Figure size 400x400 with 1 Axes>"
      ]
     },
     "metadata": {},
     "output_type": "display_data"
    }
   ],
   "source": [
    "from matplotlib.lines import Line2D\n",
    "barWidth = 2\n",
    "fig = plt.subplots(figsize =(4, 4))\n",
    "x1 = [i for i in range(5, 50, 5)]\n",
    "# Make the plot\n",
    "plt.errorbar(x1, micro_recall_undir_mean, yerr= micro_recall_undir_std,  label =r'\\textbf{HyperNodeTPP}', color ='royalblue', linewidth=2, capsize=6)\n",
    "plt.errorbar(x1, micro_recall_dir_mean, yerr= micro_recall_dir_std, label =r'\\textbf{DHyperNodeTPP}', color= 'orange', linewidth=2, capsize=6)\n",
    "custom_lines = [Line2D([0], [0], color='royalblue', lw=2),\n",
    "                Line2D([0], [0], color='orange', lw=2)]\n",
    "legend_properties = {'weight':'bold'}\n",
    "plt.legend(custom_lines,[r'\\textbf{HyperNodeTPP}',r'\\textbf{DHyperNodeTPP}'], prop=legend_properties, ncol = 2, loc=[-0.035,1])\n",
    "plt.xlabel(r'\\textbf{\\% of nodes}', fontsize = 15)\n",
    "plt.ylabel(r'\\textbf{Recall}', fontsize = 15)\n",
    "plt.yticks(fontweight ='bold',fontsize = 15)\n",
    "plt.xticks(fontweight = 'bold',fontsize = 15)\n",
    "pathlib.Path(f\"./Plots/{files[arg['fileID']]}\").mkdir(parents=True,exist_ok=True)\n",
    "plt.savefig(f\"./Plots/{files[arg['fileID']]}/connectivity.pdf\",bbox_inches='tight', dpi = 1000, pad_inches=0)\n",
    "plt.show()"
   ]
  },
  {
   "cell_type": "code",
   "execution_count": 13,
   "metadata": {},
   "outputs": [],
   "source": [
    "# x = [i for i in range(5, 50, 5)]\n",
    "# lines=plt.plot(x, micro_recall_undir_mean)\n",
    "# plt.setp(lines,color='red',marker='.')\n",
    "\n",
    "# lines=plt.plot(x, micro_recall_dir_mean)\n",
    "# plt.setp(lines,color='green',marker='.')\n",
    "\n",
    "# plt.grid(True)\n",
    "# plt.legend(['Undir','Dir'])\n",
    "# plt.xlabel('Percentage of Total Nodes comprised of node with highest probability')\n",
    "# plt.ylabel(r'\\textbf{Recall}')\n",
    "# plt.title(f'Abalation Study on Connectivity Modeling on Test Dataset for '+ files[arg['fileID']] +f' Dataset on Seed {seed}')\n",
    "# plt.show()"
   ]
  },
  {
   "attachments": {},
   "cell_type": "markdown",
   "metadata": {},
   "source": [
    "## Eumail"
   ]
  },
  {
   "cell_type": "code",
   "execution_count": 14,
   "metadata": {},
   "outputs": [],
   "source": [
    "## eumail\n",
    "arg ={}\n",
    "arg['fileID'] = 1  ## Enter dataset ID here \n",
    "arg['onlyleft'] = True ## If only left side is consider in directed dataset"
   ]
  },
  {
   "cell_type": "code",
   "execution_count": 16,
   "metadata": {},
   "outputs": [],
   "source": [
    "valid_folders = [files[arg['fileID']]+\"_alpha0.1seed\"+str(i) for i in range(3)] + [files[arg['fileID']]+\"_dir_alpha0.1seed\"+str(i) for i in range(3)]\n",
    "subpath =  os.path.join(resultpath,files[arg['fileID']])\n",
    "for folder in os.listdir(subpath):\n",
    "    if folder in valid_folders:\n",
    "        for file in os.listdir(os.path.join(subpath,folder)):\n",
    "            if file.endswith('train.csv') or file.endswith('train.txt') : arg[folder+'_train'] = file\n",
    "            elif file.endswith('valid.csv') or file.endswith('valid.txt'): arg[folder+'_valid'] = file\n",
    "            elif  file.endswith('test.csv') or file.endswith('test.txt'): arg[folder+'_test'] = file"
   ]
  },
  {
   "cell_type": "code",
   "execution_count": 17,
   "metadata": {},
   "outputs": [
    {
     "name": "stdout",
     "output_type": "stream",
     "text": [
      "No of isolated nodes 0\n",
      "No of isolated nodes 0\n"
     ]
    }
   ],
   "source": [
    "file_Id = arg['fileID']\n",
    "path = './directed_datasets/'\n",
    "step = None\n",
    "if files[file_Id] == 'enron':\n",
    "    file_name = path + 'enron/'\n",
    "elif files[file_Id] == 'eumail':\n",
    "    file_name = path + 'eumail/'\n",
    "elif files[file_Id] == 'hepth':\n",
    "    file_name = path + 'hepth/'\n",
    "elif files[file_Id] == 'arxiv':\n",
    "    file_name = path + 'arxiv_25/'\n",
    "    #step = 60 * 60\n",
    "elif files[file_Id] == 'twitter':\n",
    "    file_name = path + 'twitter/'\n",
    "else:\n",
    "    raise \"Not implemented for the rest of the dataset\"\n",
    "data_dir = HyperDiEdgeDataset(file_name, step, type='directed')  # model type is directed\n",
    "data_undir = HyperDiEdgeDataset(file_name, step, type='undirected') # model type is undirected\n",
    "\n",
    "assert data_dir.n_nodes == data_undir.n_nodes\n",
    "nnodes = data_dir.n_nodes"
   ]
  },
  {
   "cell_type": "code",
   "execution_count": 18,
   "metadata": {},
   "outputs": [],
   "source": [
    "def batching_data(batch, dataset):\n",
    "    batch_edges = []\n",
    "    batch_time_cur = []\n",
    "    batch_time_prev = []\n",
    "    batch_connectives = []\n",
    "    for _id in batch:\n",
    "        edge,  time_cur, time_prev, connectives  = dataset.__getitem__(_id)\n",
    "        batch_edges.append(edge)\n",
    "        batch_time_cur.append(time_cur)\n",
    "        batch_time_prev.append(time_prev)\n",
    "        batch_connectives.append(connectives)\n",
    "    return batch_edges, batch_time_cur, batch_time_prev, batch_connectives"
   ]
  },
  {
   "cell_type": "code",
   "execution_count": 19,
   "metadata": {},
   "outputs": [
    {
     "name": "stderr",
     "output_type": "stream",
     "text": [
      "100%|██████████| 814/814 [00:00<00:00, 666048.27it/s]\n",
      "100%|██████████| 407/407 [00:00<00:00, 988466.55it/s]\n"
     ]
    }
   ],
   "source": [
    "batch_size = 128\n",
    "batch_ids = data_dir.batch_ids\n",
    "N_batch = len(batch_ids)\n",
    "N_train_Batches = len(batch_ids) // 2\n",
    "iteration = tqdm(range(N_train_Batches))\n",
    "sum=0\n",
    "skipped = 0\n",
    "for i in iteration:\n",
    "    if i > 0.1 * len(iteration):\n",
    "        sum += len(batch_ids[i])\n",
    "    else:\n",
    "        skipped += len(batch_ids[i])\n",
    "\n",
    "Valid_time = (N_batch + N_train_Batches) // 2\n",
    "iteration = tqdm(range(N_train_Batches, Valid_time))\n",
    "val_num = 0\n",
    "for i in iteration:\n",
    "    val_num += len(batch_ids[i])"
   ]
  },
  {
   "cell_type": "code",
   "execution_count": 20,
   "metadata": {},
   "outputs": [
    {
     "name": "stdout",
     "output_type": "stream",
     "text": [
      "\n",
      "********************* Undirected || Seed 0 *****************************\n"
     ]
    },
    {
     "name": "stdout",
     "output_type": "stream",
     "text": [
      "Average Jaccard Score (MICRO) 0.11201206288251823\n",
      "Average Jaccard Score (MACRO) 0.10367581949951549\n",
      "Averge Recall@K Score (MICRO) for k = [37, 75, 113, 151, 189, 227, 264, 302, 340] is  [0.630204625671356, 0.7657277118820165, 0.8307828745360234, 0.8717783120444467, 0.8996987467003056, 0.9209588918398666, 0.9364054743178757, 0.9486058730451497, 0.9586866492295765]\n",
      "\n",
      "********************* Directed || Seed 0 *****************************\n",
      "Average Jaccard Score (MICRO) 0.006246744071559153\n",
      "Average Jaccard Score (MACRO) 0.006246744071559153\n",
      "Averge Recall@K Score (MICRO) for k = [37, 75, 113, 151, 189, 227, 264, 302, 340] is  [0.5203919296988373, 0.6644852244481675, 0.7468176301725811, 0.8031577905826898, 0.8435400468739329, 0.8763720701245276, 0.9005439036158558, 0.9210136339330629, 0.9384029313064765]\n",
      "\n",
      "********************* Undirected || Seed 1 *****************************\n",
      "Average Jaccard Score (MICRO) 0.11800049674010452\n",
      "Average Jaccard Score (MACRO) 0.10634314466040766\n",
      "Averge Recall@K Score (MICRO) for k = [37, 75, 113, 151, 189, 227, 264, 302, 340] is  [0.631571945813249, 0.7732931131103982, 0.842008517149421, 0.8821295494507307, 0.9093456367208227, 0.9280937643870217, 0.9425346167040358, 0.9542103706762416, 0.9635781822754634]\n",
      "\n",
      "********************* Directed || Seed 1 *****************************\n",
      "Average Jaccard Score (MICRO) 0.006550450567615068\n",
      "Average Jaccard Score (MACRO) 0.006550450567615068\n",
      "Averge Recall@K Score (MICRO) for k = [37, 75, 113, 151, 189, 227, 264, 302, 340] is  [0.5508788701102174, 0.6883417907890282, 0.7676977478619147, 0.8224633246465806, 0.861538550054947, 0.8908705796292795, 0.9144800644704231, 0.9342970554104207, 0.9488304115809573]\n",
      "\n",
      "********************* Undirected || Seed 2 *****************************\n",
      "Average Jaccard Score (MICRO) 0.1213851444478548\n",
      "Average Jaccard Score (MACRO) 0.11177125166459731\n",
      "Averge Recall@K Score (MICRO) for k = [37, 75, 113, 151, 189, 227, 264, 302, 340] is  [0.6417974762742469, 0.7862063501920913, 0.8539756195227901, 0.8934468214732985, 0.9202094954936297, 0.939693441410647, 0.9536615366255469, 0.9637716125443434, 0.9717487276422486]\n",
      "\n",
      "********************* Directed || Seed 2 *****************************\n",
      "Average Jaccard Score (MICRO) 0.00824612390568892\n",
      "Average Jaccard Score (MACRO) 0.00824612390568892\n",
      "Averge Recall@K Score (MICRO) for k = [37, 75, 113, 151, 189, 227, 264, 302, 340] is  [0.5224352121325038, 0.6669414520482755, 0.750217528892222, 0.8068414713465681, 0.8475160669807384, 0.8796658894190637, 0.9035646107831669, 0.9223316988022172, 0.9388237077925882]\n"
     ]
    }
   ],
   "source": [
    "micro_recall_dir, micro_recall_undir = [], []\n",
    "for seed in range(4):\n",
    "    for folder in valid_folders:\n",
    "        if 'seed'+str(seed) in folder:\n",
    "            if 'dir' in folder:\n",
    "                print(f'\\n********************* Directed || Seed {seed} *****************************')\n",
    "                test_iterator = IteratorForConnProb(os.path.join(subpath,folder,arg[folder+\"_test\"]), dtype= 'directed', mtype= 'directed')\n",
    "                micro_recall_dir.append(get_metric_result_for_dir(data_dir,test_iterator, skipped+sum+val_num, onlyleft=arg['onlyleft']))\n",
    "            else:\n",
    "                print(f'\\n********************* Undirected || Seed {seed} *****************************')\n",
    "                test_iterator = IteratorForConnProb(os.path.join(subpath,folder,arg[folder+\"_test\"]), dtype= 'directed', mtype= 'undirected')\n",
    "                micro_recall_undir.append(get_metric_result_for_undir(data_undir, test_iterator, skipped+sum+val_num, directed=True))"
   ]
  },
  {
   "cell_type": "code",
   "execution_count": 21,
   "metadata": {},
   "outputs": [
    {
     "data": {
      "image/png": "[encoded data removed]",
      "text/plain": [
       "<Figure size 400x400 with 1 Axes>"
      ]
     },
     "metadata": {},
     "output_type": "display_data"
    }
   ],
   "source": [
    "micro_recall_undir = np.array(micro_recall_undir)\n",
    "micro_recall_undir_mean, micro_recall_undir_std = np.mean(micro_recall_undir,axis =0) , np.std(micro_recall_undir, axis = 0)\n",
    "micro_recall_dir = np.array(micro_recall_dir)\n",
    "micro_recall_dir_mean, micro_recall_dir_std = np.mean(micro_recall_dir,axis =0) , np.std(micro_recall_dir, axis = 0)\n",
    "barWidth = 2\n",
    "fig = plt.subplots(figsize =(4, 4))\n",
    "x1 = [i for i in range(5, 50, 5)]\n",
    "# Make the plot\n",
    "plt.errorbar(x1, micro_recall_undir_mean, yerr= micro_recall_undir_std,  label =r'\\textbf{HyperNodeTPP}', color ='royalblue', linewidth=2, capsize=6)\n",
    "plt.errorbar(x1, micro_recall_dir_mean, yerr= micro_recall_dir_std, label =r'\\textbf{DHyperNodeTPP}', color= 'orange', linewidth=2, capsize=6)\n",
    "custom_lines = [Line2D([0], [0], color='royalblue', lw=2),\n",
    "                Line2D([0], [0], color='orange', lw=2)]\n",
    "legend_properties = {'weight':'bold'}\n",
    "plt.legend(custom_lines,[r'\\textbf{HyperNodeTPP}',r'\\textbf{DHyperNodeTPP}'], prop=legend_properties, ncol = 2, loc=[-0.035,1])\n",
    "plt.xlabel(r'\\textbf{\\% of nodes}', fontsize = 15)\n",
    "plt.ylabel(r'\\textbf{Recall}', fontsize = 15)\n",
    "plt.yticks(fontweight ='bold',fontsize = 15)\n",
    "plt.xticks(fontweight = 'bold',fontsize = 15)\n",
    "pathlib.Path(f\"./Plots/{files[arg['fileID']]}\").mkdir(parents=True,exist_ok=True)\n",
    "plt.savefig(f\"./Plots/{files[arg['fileID']]}/connectivity.pdf\",bbox_inches='tight', dpi = 1000, pad_inches=0)\n",
    "plt.show()"
   ]
  },
  {
   "attachments": {},
   "cell_type": "markdown",
   "metadata": {},
   "source": [
    "## Twitter"
   ]
  },
  {
   "cell_type": "code",
   "execution_count": 22,
   "metadata": {},
   "outputs": [],
   "source": [
    "## Twitter\n",
    "arg ={}\n",
    "arg['fileID'] = 4  ## Enter dataset ID here \n",
    "arg['onlyleft'] = True ## If only left side is consider in directed dataset"
   ]
  },
  {
   "cell_type": "code",
   "execution_count": 23,
   "metadata": {},
   "outputs": [
    {
     "data": {
      "text/plain": [
       "['twitter_alpha0.3seed0',\n",
       " 'twitter_alpha0.3seed1',\n",
       " 'twitter_alpha0.3seed2',\n",
       " 'twitter_alpha0.3seed3',\n",
       " 'twitter_dir_alpha0.3seed0',\n",
       " 'twitter_dir_alpha0.3seed1',\n",
       " 'twitter_dir_alpha0.3seed2',\n",
       " 'twitter_dir_alpha0.3seed3']"
      ]
     },
     "execution_count": 23,
     "metadata": {},
     "output_type": "execute_result"
    }
   ],
   "source": [
    "valid_folders = [files[arg['fileID']]+\"_alpha0.3seed\"+str(i) for i in range(4)] + [files[arg['fileID']]+\"_dir_alpha0.3seed\"+str(i) for i in range(4)]\n",
    "valid_folders"
   ]
  },
  {
   "cell_type": "code",
   "execution_count": 24,
   "metadata": {},
   "outputs": [],
   "source": [
    "valid_folders = [files[arg['fileID']]+\"_alpha0.3seed\"+str(i) for i in range(4)] + [files[arg['fileID']]+\"_dir_alpha0.3seed\"+str(i) for i in range(4)]\n",
    "subpath =  os.path.join(resultpath,files[arg['fileID']])\n",
    "for folder in os.listdir(subpath):\n",
    "    if folder in valid_folders:\n",
    "        for file in os.listdir(os.path.join(subpath,folder)):\n",
    "            if file.endswith('train.csv') or file.endswith('train.txt') : arg[folder+'_train'] = file\n",
    "            elif file.endswith('valid.csv') or file.endswith('valid.txt'): arg[folder+'_valid'] = file\n",
    "            elif  file.endswith('test.csv') or file.endswith('test.txt'): arg[folder+'_test'] = file\n"
   ]
  },
  {
   "cell_type": "code",
   "execution_count": 25,
   "metadata": {},
   "outputs": [
    {
     "name": "stdout",
     "output_type": "stream",
     "text": [
      "No of isolated nodes 0\n"
     ]
    },
    {
     "name": "stdout",
     "output_type": "stream",
     "text": [
      "No of isolated nodes 0\n"
     ]
    }
   ],
   "source": [
    "file_Id = arg['fileID']\n",
    "path = './directed_datasets/'\n",
    "step = None\n",
    "if files[file_Id] == 'enron':\n",
    "    file_name = path + 'enron/'\n",
    "elif files[file_Id] == 'eumail':\n",
    "    file_name = path + 'eumail/'\n",
    "elif files[file_Id] == 'hepth':\n",
    "    file_name = path + 'hepth/'\n",
    "elif files[file_Id] == 'arxiv':\n",
    "    file_name = path + 'arxiv_25/'\n",
    "    #step = 60 * 60\n",
    "elif files[file_Id] == 'twitter':\n",
    "    file_name = path + 'twitter/'\n",
    "else:\n",
    "    raise \"Not implemented for the rest of the dataset\"\n",
    "data_dir = HyperDiEdgeDataset(file_name, step, type='directed')  # model type is directed\n",
    "data_undir = HyperDiEdgeDataset(file_name, step, type='undirected') # model type is undirected\n",
    "\n",
    "assert data_dir.n_nodes == data_undir.n_nodes\n",
    "nnodes = data_dir.n_nodes"
   ]
  },
  {
   "cell_type": "code",
   "execution_count": 26,
   "metadata": {},
   "outputs": [
    {
     "name": "stdout",
     "output_type": "stream",
     "text": [
      "DATASET :: twitter\n",
      "\n",
      "********************* Undirected || Seed 0 *****************************\n"
     ]
    },
    {
     "name": "stdout",
     "output_type": "stream",
     "text": [
      "Average Jaccard Score (MICRO) 0.044745891134210174\n",
      "Average Jaccard Score (MACRO) 0.0420658442555396\n",
      "Averge Recall@K Score (MICRO) for k = [106, 212, 319, 425, 532, 638, 745, 851, 958] is  [0.5994609586990398, 0.7048596229422013, 0.7659454499161911, 0.8041045171967494, 0.828793504628942, 0.8498713986312383, 0.8699063956490066, 0.8943713031526783, 0.920526593725762]\n",
      "\n",
      "********************* Directed || Seed 0 *****************************\n",
      "Average Jaccard Score (MICRO) 0.003305600887200498\n",
      "Average Jaccard Score (MACRO) 0.003305600887200498\n",
      "Averge Recall@K Score (MICRO) for k = [106, 212, 319, 425, 532, 638, 745, 851, 958] is  [0.5865786762972064, 0.6923765466572347, 0.7517357620660983, 0.7953618898693177, 0.8380623502984722, 0.8613866239745834, 0.8882948918425853, 0.9083677724412673, 0.923285490896906]\n",
      "\n",
      "********************* Undirected || Seed 1 *****************************\n",
      "Average Jaccard Score (MICRO) 0.01976955207530778\n",
      "Average Jaccard Score (MACRO) 0.018404509011402465\n",
      "Averge Recall@K Score (MICRO) for k = [106, 212, 319, 425, 532, 638, 745, 851, 958] is  [0.5368262573111823, 0.6769537152947223, 0.7489629378163464, 0.7948749820240982, 0.8251464593956797, 0.8450688860127447, 0.8694638937806917, 0.8902505192383403, 0.9093671539609457]\n",
      "\n",
      "********************* Directed || Seed 1 *****************************\n",
      "Average Jaccard Score (MICRO) 0.003523797465544603\n",
      "Average Jaccard Score (MACRO) 0.003523797465544603\n",
      "Averge Recall@K Score (MICRO) for k = [106, 212, 319, 425, 532, 638, 745, 851, 958] is  [0.6011279583503977, 0.7046502103577944, 0.7611713019844373, 0.7978112550727876, 0.8322855777703315, 0.8654564888243543, 0.8919742916713207, 0.9088820320935254, 0.9272199262816931]\n",
      "\n",
      "********************* Undirected || Seed 2 *****************************\n",
      "Average Jaccard Score (MICRO) 0.030417414947335516\n",
      "Average Jaccard Score (MACRO) 0.030688959914847106\n",
      "Averge Recall@K Score (MICRO) for k = [106, 212, 319, 425, 532, 638, 745, 851, 958] is  [0.5874772207016378, 0.697110182257962, 0.7567452066226759, 0.7928217804276024, 0.8199819533734579, 0.841193753108947, 0.861171993427303, 0.884027733574741, 0.9117438628503532]\n",
      "\n",
      "********************* Directed || Seed 2 *****************************\n",
      "Average Jaccard Score (MICRO) 0.0035343809444592553\n",
      "Average Jaccard Score (MACRO) 0.0035343809444592553\n",
      "Averge Recall@K Score (MICRO) for k = [106, 212, 319, 425, 532, 638, 745, 851, 958] is  [0.620407188155429, 0.7206665673827519, 0.7806228824602555, 0.8172279310473214, 0.8462874021122654, 0.8725362076026659, 0.8941723444655422, 0.9199849212554451, 0.9371858594884396]\n",
      "\n",
      "********************* Undirected || Seed 3 *****************************\n",
      "Average Jaccard Score (MICRO) 0.0784865469882375\n",
      "Average Jaccard Score (MACRO) 0.07763057891278848\n",
      "Averge Recall@K Score (MICRO) for k = [106, 212, 319, 425, 532, 638, 745, 851, 958] is  [0.6211915842132685, 0.7294485346987946, 0.7790367981441797, 0.8153069812508399, 0.837677666739749, 0.852753790263073, 0.8718631756876224, 0.8950444859363618, 0.9262422821497528]\n",
      "\n",
      "********************* Directed || Seed 3 *****************************\n",
      "Average Jaccard Score (MICRO) 0.0035284724488316116\n",
      "Average Jaccard Score (MACRO) 0.0035284724488316116\n",
      "Averge Recall@K Score (MICRO) for k = [106, 212, 319, 425, 532, 638, 745, 851, 958] is  [0.592940603397992, 0.699488998101195, 0.7624562530250567, 0.8040838266502848, 0.8408852712312446, 0.8674275847946684, 0.8968627834245505, 0.9194753155366915, 0.9353280092334041]\n"
     ]
    }
   ],
   "source": [
    "print('DATASET ::', files[file_Id])\n",
    "micro_recall_dir, micro_recall_undir = [],[]\n",
    "for seed in range(4):\n",
    "    for folder in valid_folders:\n",
    "        if 'seed'+str(seed) in folder:\n",
    "            if 'dir' in folder:\n",
    "                print(f'\\n********************* Directed || Seed {seed} *****************************')\n",
    "                train_iterator = IteratorForConnProb(os.path.join(subpath,folder,arg[folder+\"_train\"]), dtype= 'directed', mtype= 'directed' )\n",
    "                valid_iterator = IteratorForConnProb(os.path.join(subpath,folder,arg[folder+\"_valid\"]), dtype= 'directed', mtype= 'directed')\n",
    "                test_index_start = train_iterator.filesize + valid_iterator.filesize\n",
    "                del valid_iterator, train_iterator\n",
    "                if arg[folder+\"_train\"].endswith('.txt'):\n",
    "                    test_index_start -=2\n",
    "                test_iterator = IteratorForConnProb(os.path.join(subpath,folder,arg[folder+\"_test\"]), dtype= 'directed', mtype= 'directed')\n",
    "                micro_recall_dir.append(get_metric_result_for_dir(data_dir,test_iterator, test_index_start, onlyleft=arg['onlyleft']))\n",
    "            else:\n",
    "                print(f'\\n********************* Undirected || Seed {seed} *****************************')\n",
    "\n",
    "                train_iterator = IteratorForConnProb(os.path.join(subpath,folder,arg[folder+\"_train\"]), dtype= 'directed', mtype= 'undirected' )\n",
    "                valid_iterator = IteratorForConnProb(os.path.join(subpath,folder,arg[folder+\"_valid\"]), dtype= 'directed', mtype= 'undirected')\n",
    "                test_index_start = train_iterator.filesize + valid_iterator.filesize\n",
    "                if arg[folder+\"_train\"].endswith('.txt'):\n",
    "                    test_index_start -=2\n",
    "                del valid_iterator, train_iterator\n",
    "                test_iterator = IteratorForConnProb(os.path.join(subpath,folder,arg[folder+\"_test\"]), dtype= 'directed', mtype= 'undirected')\n",
    "                micro_recall_undir.append(get_metric_result_for_undir(data_undir, test_iterator, test_index_start, directed=True))"
   ]
  },
  {
   "cell_type": "code",
   "execution_count": 27,
   "metadata": {},
   "outputs": [
    {
     "data": {
      "image/png": "[encoded data removed]",
      "text/plain": [
       "<Figure size 400x400 with 1 Axes>"
      ]
     },
     "metadata": {},
     "output_type": "display_data"
    }
   ],
   "source": [
    "micro_recall_undir = np.array(micro_recall_undir)\n",
    "micro_recall_undir_mean, micro_recall_undir_std = np.mean(micro_recall_undir,axis =0) , np.std(micro_recall_undir, axis = 0)\n",
    "micro_recall_dir = np.array(micro_recall_dir)\n",
    "micro_recall_dir_mean, micro_recall_dir_std = np.mean(micro_recall_dir,axis =0) , np.std(micro_recall_dir, axis = 0)\n",
    "barWidth = 2\n",
    "fig = plt.subplots(figsize =(4, 4))\n",
    "x1 = [i for i in range(5, 50, 5)]\n",
    "# Make the plot\n",
    "plt.errorbar(x1, micro_recall_undir_mean, yerr= micro_recall_undir_std,  label =r'\\textbf{HyperNodeTPP}', color ='royalblue', linewidth=2, capsize=6)\n",
    "plt.errorbar(x1, micro_recall_dir_mean, yerr= micro_recall_dir_std, label =r'\\textbf{DHyperNodeTPP}', color= 'orange', linewidth=2, capsize=6)\n",
    "custom_lines = [Line2D([0], [0], color='royalblue', lw=2),\n",
    "                Line2D([0], [0], color='orange', lw=2)]\n",
    "legend_properties = {'weight':'bold'}\n",
    "plt.legend(custom_lines,[r'\\textbf{HyperNodeTPP}',r'\\textbf{DHyperNodeTPP}'], prop=legend_properties, ncol = 2, loc=[-0.035,1])\n",
    "plt.xlabel(r'\\textbf{\\% of nodes}', fontsize = 15)\n",
    "plt.ylabel(r'\\textbf{Recall}', fontsize = 15)\n",
    "plt.yticks(fontweight ='bold',fontsize = 15)\n",
    "plt.xticks(fontweight = 'bold',fontsize = 15)\n",
    "pathlib.Path(f\"./Plots/{files[arg['fileID']]}\").mkdir(parents=True,exist_ok=True)\n",
    "plt.savefig(f\"./Plots/{files[arg['fileID']]}/connectivity.pdf\",bbox_inches='tight', dpi = 1000, pad_inches=0)\n",
    "plt.show()"
   ]
  },
  {
   "attachments": {},
   "cell_type": "markdown",
   "metadata": {},
   "source": [
    "## Hepth"
   ]
  },
  {
   "cell_type": "code",
   "execution_count": 28,
   "metadata": {},
   "outputs": [],
   "source": [
    "## hepth\n",
    "arg ={}\n",
    "arg['fileID'] = 2  ## Enter dataset ID here \n",
    "arg['onlyleft'] = False ## If only left side is consider in directed dataset, the flag is true."
   ]
  },
  {
   "cell_type": "code",
   "execution_count": 29,
   "metadata": {},
   "outputs": [
    {
     "data": {
      "text/plain": [
       "['hepth_alpha0.3seed0_1e-3',\n",
       " 'hepth_alpha0.3seed1_1e-3',\n",
       " 'hepth_alpha0.3seed2_1e-3',\n",
       " 'hepth_dir_alpha0.3seed0_1e-3',\n",
       " 'hepth_dir_alpha0.3seed1_1e-3',\n",
       " 'hepth_dir_alpha0.3seed2_1e-3']"
      ]
     },
     "execution_count": 29,
     "metadata": {},
     "output_type": "execute_result"
    }
   ],
   "source": [
    "valid_folders = [files[arg['fileID']]+\"_alpha0.3seed\"+str(i)+'_1e-3' for i in range(3)] + [files[arg['fileID']]+\"_dir_alpha0.3seed\"+str(i)+'_1e-3'  for i in range(3)]\n",
    "valid_folders"
   ]
  },
  {
   "cell_type": "code",
   "execution_count": 30,
   "metadata": {},
   "outputs": [],
   "source": [
    "valid_folders = [files[arg['fileID']]+\"_alpha0.3seed\"+str(i)+'_1e-3' for i in range(3)] + [files[arg['fileID']]+\"_dir_alpha0.3seed\"+str(i)+'_1e-3'  for i in range(3)]\n",
    "subpath =  os.path.join(resultpath,files[arg['fileID']])\n",
    "for folder in os.listdir(subpath):\n",
    "    if folder in valid_folders:\n",
    "        for file in os.listdir(os.path.join(subpath,folder)):\n",
    "            if file.endswith('train.csv') or file.endswith('train.txt') : arg[folder+'_train'] = file\n",
    "            elif file.endswith('valid.csv') or file.endswith('valid.txt'): arg[folder+'_valid'] = file\n",
    "            elif  file.endswith('test.csv') or file.endswith('test.txt'): arg[folder+'_test'] = file"
   ]
  },
  {
   "cell_type": "code",
   "execution_count": 31,
   "metadata": {},
   "outputs": [
    {
     "name": "stdout",
     "output_type": "stream",
     "text": [
      "No of isolated nodes 0\n"
     ]
    },
    {
     "name": "stdout",
     "output_type": "stream",
     "text": [
      "No of isolated nodes 0\n"
     ]
    }
   ],
   "source": [
    "file_Id = arg['fileID']\n",
    "path = './directed_datasets/'\n",
    "step = None\n",
    "if files[file_Id] == 'enron':\n",
    "    file_name = path + 'enron/'\n",
    "elif files[file_Id] == 'eumail':\n",
    "    file_name = path + 'eumail/'\n",
    "elif files[file_Id] == 'hepth':\n",
    "    file_name = path + 'hepth/'\n",
    "elif files[file_Id] == 'arxiv':\n",
    "    file_name = path + 'arxiv_25/'\n",
    "    #step = 60 * 60\n",
    "elif files[file_Id] == 'twitter':\n",
    "    file_name = path + 'twitter/'\n",
    "else:\n",
    "    raise \"Not implemented for the rest of the dataset\"\n",
    "data_dir = HyperDiEdgeDataset(file_name, step, type='directed')  # model type is directed\n",
    "data_undir = HyperDiEdgeDataset(file_name, step, type='undirected') # model type is undirected\n",
    "\n",
    "assert data_dir.n_nodes == data_undir.n_nodes\n",
    "nnodes = data_dir.n_nodes"
   ]
  },
  {
   "cell_type": "code",
   "execution_count": 32,
   "metadata": {},
   "outputs": [
    {
     "name": "stdout",
     "output_type": "stream",
     "text": [
      "DATASET :: hepth\n",
      "\n",
      "********************* Undirected || Seed 0 *****************************\n"
     ]
    },
    {
     "name": "stdout",
     "output_type": "stream",
     "text": [
      "Average Jaccard Score (MICRO) 0.10481629151829923\n",
      "Average Jaccard Score (MACRO) 0.08109828320762291\n",
      "Averge Recall@K Score (MICRO) for k = [22, 45, 67, 90, 112, 135, 157, 180, 202] is  [0.22187265996462976, 0.33500988545148097, 0.4160244900531004, 0.49309577442891095, 0.549230234534303, 0.6047155627567988, 0.6545379726733236, 0.6998026934499025, 0.7365636935414046]\n",
      "\n",
      "********************* Directed || Seed 0 *****************************\n",
      "Average Jaccard Score (MICRO) 0.07112629142417358\n",
      "Average Jaccard Score (MACRO) 0.06939604002365533\n",
      "Averge Recall@K Score (MICRO) for k = [22, 45, 67, 90, 112, 135, 157, 180, 202] is  [0.3331958702307247, 0.4667643776345259, 0.5603264054762069, 0.6365373389507099, 0.695214756370883, 0.7473218713212408, 0.7928272291445604, 0.8281360287343253, 0.8610339401887577]\n",
      "\n",
      "********************* Undirected || Seed 1 *****************************\n",
      "Average Jaccard Score (MICRO) 0.10107225636983545\n",
      "Average Jaccard Score (MACRO) 0.07760741920671756\n",
      "Averge Recall@K Score (MICRO) for k = [22, 45, 67, 90, 112, 135, 157, 180, 202] is  [0.2296919068540364, 0.35090994413941473, 0.438023764899977, 0.5114372345802035, 0.5741253694396413, 0.6323003361818577, 0.6768399196001031, 0.7176475789126089, 0.7514977661897321]\n",
      "\n",
      "********************* Directed || Seed 1 *****************************\n",
      "Average Jaccard Score (MICRO) 0.0686975034361373\n",
      "Average Jaccard Score (MACRO) 0.06754402686422184\n",
      "Averge Recall@K Score (MICRO) for k = [22, 45, 67, 90, 112, 135, 157, 180, 202] is  [0.3502299427254115, 0.4833067863537459, 0.5769892322242798, 0.6504175526933542, 0.7088583979937139, 0.7562096120034822, 0.7962360617178912, 0.8308970904721285, 0.8605139980027895]\n",
      "\n",
      "********************* Undirected || Seed 2 *****************************\n",
      "Average Jaccard Score (MICRO) 0.10820849117806239\n",
      "Average Jaccard Score (MACRO) 0.08290142880610095\n",
      "Averge Recall@K Score (MICRO) for k = [22, 45, 67, 90, 112, 135, 157, 180, 202] is  [0.2317357781554957, 0.3559758209542449, 0.4432842408902588, 0.5201933991950967, 0.5858121843024675, 0.6443842983233194, 0.6875567759472854, 0.727362080606842, 0.7589682725865721]\n",
      "\n",
      "********************* Directed || Seed 2 *****************************\n",
      "Average Jaccard Score (MICRO) 0.0611172378938113\n",
      "Average Jaccard Score (MACRO) 0.06197431314311025\n",
      "Averge Recall@K Score (MICRO) for k = [22, 45, 67, 90, 112, 135, 157, 180, 202] is  [0.318737652429141, 0.4564624339761585, 0.5522296920953302, 0.6267558599787668, 0.6908857756373865, 0.7411466443865021, 0.7847951372342632, 0.824176606953118, 0.8518189009796256]\n"
     ]
    }
   ],
   "source": [
    "print('DATASET ::', files[file_Id])\n",
    "micro_recall_dir, micro_recall_undir = [],[]\n",
    "for seed in range(4):\n",
    "    for folder in valid_folders:\n",
    "        if 'seed'+str(seed) in folder:\n",
    "            if 'dir' in folder:\n",
    "                print(f'\\n********************* Directed || Seed {seed} *****************************')\n",
    "                train_iterator = IteratorForConnProb(os.path.join(subpath,folder,arg[folder+\"_train\"]), dtype= 'directed', mtype= 'directed' )\n",
    "                valid_iterator = IteratorForConnProb(os.path.join(subpath,folder,arg[folder+\"_valid\"]), dtype= 'directed', mtype= 'directed')\n",
    "                test_index_start = train_iterator.filesize + valid_iterator.filesize\n",
    "                del valid_iterator, train_iterator\n",
    "                if arg[folder+\"_train\"].endswith('.txt'):\n",
    "                    test_index_start -=2\n",
    "                test_iterator = IteratorForConnProb(os.path.join(subpath,folder,arg[folder+\"_test\"]), dtype= 'directed', mtype= 'directed')\n",
    "                micro_recall_dir.append(get_metric_result_for_dir(data_dir,test_iterator, test_index_start, onlyleft=arg['onlyleft']))\n",
    "            else:\n",
    "                print(f'\\n********************* Undirected || Seed {seed} *****************************')\n",
    "\n",
    "                train_iterator = IteratorForConnProb(os.path.join(subpath,folder,arg[folder+\"_train\"]), dtype= 'directed', mtype= 'undirected' )\n",
    "                valid_iterator = IteratorForConnProb(os.path.join(subpath,folder,arg[folder+\"_valid\"]), dtype= 'directed', mtype= 'undirected')\n",
    "                test_index_start = train_iterator.filesize + valid_iterator.filesize\n",
    "                if arg[folder+\"_train\"].endswith('.txt'):\n",
    "                    test_index_start -=2\n",
    "                del valid_iterator, train_iterator\n",
    "                test_iterator = IteratorForConnProb(os.path.join(subpath,folder,arg[folder+\"_test\"]), dtype= 'directed', mtype= 'undirected')\n",
    "                micro_recall_undir.append(get_metric_result_for_undir(data_undir, test_iterator, test_index_start, directed=True))"
   ]
  },
  {
   "cell_type": "code",
   "execution_count": 33,
   "metadata": {},
   "outputs": [
    {
     "data": {
      "image/png": "[encoded data removed]",
      "text/plain": [
       "<Figure size 400x400 with 1 Axes>"
      ]
     },
     "metadata": {},
     "output_type": "display_data"
    }
   ],
   "source": [
    "micro_recall_undir = np.array(micro_recall_undir)\n",
    "micro_recall_undir_mean, micro_recall_undir_std = np.mean(micro_recall_undir,axis =0) , np.std(micro_recall_undir, axis = 0)\n",
    "micro_recall_dir = np.array(micro_recall_dir)\n",
    "micro_recall_dir_mean, micro_recall_dir_std = np.mean(micro_recall_dir,axis =0) , np.std(micro_recall_dir, axis = 0)\n",
    "barWidth = 2\n",
    "fig = plt.subplots(figsize =(4, 4))\n",
    "x1 = [i for i in range(5, 50, 5)]\n",
    "# Make the plot\n",
    "plt.errorbar(x1, micro_recall_undir_mean, yerr= micro_recall_undir_std,  label =r'\\textbf{HyperNodeTPP}', color ='royalblue', linewidth=2, capsize=6)\n",
    "plt.errorbar(x1, micro_recall_dir_mean, yerr= micro_recall_dir_std, label =r'\\textbf{DHyperNodeTPP}', color= 'orange', linewidth=2, capsize=6)\n",
    "custom_lines = [Line2D([0], [0], color='royalblue', lw=2),\n",
    "                Line2D([0], [0], color='orange', lw=2)]\n",
    "legend_properties = {'weight':'bold'}\n",
    "plt.legend(custom_lines,[r'\\textbf{HyperNodeTPP}',r'\\textbf{DHyperNodeTPP}'], prop=legend_properties, ncol = 2, loc=[-0.035,1])\n",
    "plt.xlabel(r'\\textbf{\\% of nodes}', fontsize = 15)\n",
    "plt.ylabel(r'\\textbf{Recall}', fontsize = 15)\n",
    "plt.yticks(fontweight ='bold',fontsize = 15)\n",
    "plt.xticks(fontweight = 'bold',fontsize = 15)\n",
    "pathlib.Path(f\"./Plots/{files[arg['fileID']]}\").mkdir(parents=True,exist_ok=True)\n",
    "plt.savefig(f\"./Plots/{files[arg['fileID']]}/connectivity.pdf\",bbox_inches='tight', dpi = 1000, pad_inches=0)\n",
    "plt.show()"
   ]
  },
  {
   "attachments": {},
   "cell_type": "markdown",
   "metadata": {},
   "source": [
    "## arxiv "
   ]
  },
  {
   "cell_type": "code",
   "execution_count": 10,
   "metadata": {},
   "outputs": [],
   "source": [
    "## arxiv\n",
    "arg ={}\n",
    "arg['fileID'] = 3   ## Enter dataset ID here \n",
    "arg['onlyleft'] = False ## If only left side is consider in directed dataset"
   ]
  },
  {
   "cell_type": "code",
   "execution_count": 11,
   "metadata": {},
   "outputs": [],
   "source": [
    "valid_folders = [files[arg['fileID']]+\"_alpha0.3seed\"+str(i)+'_1e-3' for i in range(2)] + [files[arg['fileID']]+\"_dir_alpha0.3seed\"+str(i)+'_1e-3' for i in range(2)]\n",
    "subpath =  os.path.join(resultpath,files[arg['fileID']])\n",
    "for folder in os.listdir(subpath):\n",
    "    if folder in valid_folders:\n",
    "        for file in os.listdir(os.path.join(subpath,folder)):\n",
    "            if file.endswith('train.csv') or file.endswith('train.txt') : arg[folder+'_train'] = file\n",
    "            elif file.endswith('valid.csv') or file.endswith('valid.txt'): arg[folder+'_valid'] = file\n",
    "            elif  file.endswith('test.csv') or file.endswith('test.txt'): arg[folder+'_test'] = file"
   ]
  },
  {
   "cell_type": "code",
   "execution_count": 12,
   "metadata": {},
   "outputs": [
    {
     "name": "stdout",
     "output_type": "stream",
     "text": [
      "No of isolated nodes 0\n"
     ]
    },
    {
     "name": "stdout",
     "output_type": "stream",
     "text": [
      "No of isolated nodes 0\n"
     ]
    }
   ],
   "source": [
    "file_Id = arg['fileID']\n",
    "path = './directed_datasets/'\n",
    "step = None\n",
    "if files[file_Id] == 'enron':\n",
    "    file_name = path + 'enron/'\n",
    "elif files[file_Id] == 'eumail':\n",
    "    file_name = path + 'eumail/'\n",
    "elif files[file_Id] == 'hepth':\n",
    "    file_name = path + 'hepth/'\n",
    "elif files[file_Id] == 'arxiv':\n",
    "    file_name = path + 'arxiv_25/'\n",
    "    #step = 60 * 60\n",
    "elif files[file_Id] == 'twitter':\n",
    "    file_name = path + 'twitter/'\n",
    "else:\n",
    "    raise \"Not implemented for the rest of the dataset\"\n",
    "data_dir = HyperDiEdgeDataset(file_name, step, type='directed')  # model type is directed\n",
    "data_undir = HyperDiEdgeDataset(file_name, step, type='undirected') # model type is undirected\n",
    "\n",
    "assert data_dir.n_nodes == data_undir.n_nodes\n",
    "nnodes = data_dir.n_nodes"
   ]
  },
  {
   "cell_type": "code",
   "execution_count": 13,
   "metadata": {},
   "outputs": [
    {
     "name": "stdout",
     "output_type": "stream",
     "text": [
      "DATASET :: arxiv\n",
      "\n",
      "********************* Undirected || Seed 0 *****************************\n"
     ]
    },
    {
     "name": "stdout",
     "output_type": "stream",
     "text": [
      "Average Jaccard Score (MICRO) 0.09002582935017375\n",
      "Average Jaccard Score (MACRO) 0.07933374353398945\n",
      "Averge Recall@K Score (MICRO) for k = [32, 65, 98, 131, 164, 197, 230, 263, 296] is  [0.33020265272727367, 0.45991230837217095, 0.5509291880713872, 0.6171667691311308, 0.6734113438768391, 0.72055507255486, 0.759999868747389, 0.7917957265130285, 0.8195297696192198]\n",
      "\n",
      "********************* Directed || Seed 0 *****************************\n",
      "Average Jaccard Score (MICRO) 0.028619959420571398\n",
      "Average Jaccard Score (MACRO) 0.02698929472006232\n",
      "Averge Recall@K Score (MICRO) for k = [32, 65, 98, 131, 164, 197, 230, 263, 296] is  [0.3514245143397976, 0.49772508404441884, 0.5978024311326267, 0.6705316459507493, 0.7307621273007874, 0.776006009346737, 0.8088284230123395, 0.8400265986427721, 0.8657959105995761]\n",
      "\n",
      "********************* Undirected || Seed 1 *****************************\n",
      "Average Jaccard Score (MICRO) 0.09417014076950865\n",
      "Average Jaccard Score (MACRO) 0.08269608797110067\n",
      "Averge Recall@K Score (MICRO) for k = [32, 65, 98, 131, 164, 197, 230, 263, 296] is  [0.3322156529592409, 0.4675351725408407, 0.5569328051225457, 0.6280863792288618, 0.6853886706426738, 0.7327772928895928, 0.7722293005044174, 0.8048789092522265, 0.8323939300770816]\n",
      "\n",
      "********************* Directed || Seed 1 *****************************\n",
      "Average Jaccard Score (MICRO) 0.027693767438375295\n",
      "Average Jaccard Score (MACRO) 0.026710907396889014\n",
      "Averge Recall@K Score (MICRO) for k = [32, 65, 98, 131, 164, 197, 230, 263, 296] is  [0.3475030937564853, 0.5033310286003898, 0.5965128033802303, 0.6723972497723592, 0.7318717749922334, 0.7755136512362223, 0.8138487776657606, 0.8450485065410216, 0.8665646046655104]\n"
     ]
    }
   ],
   "source": [
    "print('DATASET ::', files[file_Id])\n",
    "micro_recall_dir, micro_recall_undir = [],[]\n",
    "for seed in range(4):\n",
    "    for folder in valid_folders:\n",
    "        if 'seed'+str(seed) in folder:\n",
    "            if 'dir' in folder:\n",
    "                print(f'\\n********************* Directed || Seed {seed} *****************************')\n",
    "                train_iterator = IteratorForConnProb(os.path.join(subpath,folder,arg[folder+\"_train\"]), dtype= 'directed', mtype= 'directed' )\n",
    "                valid_iterator = IteratorForConnProb(os.path.join(subpath,folder,arg[folder+\"_valid\"]), dtype= 'directed', mtype= 'directed')\n",
    "                test_index_start = train_iterator.filesize + valid_iterator.filesize\n",
    "                del valid_iterator, train_iterator\n",
    "                if arg[folder+\"_train\"].endswith('.txt'):\n",
    "                    test_index_start -=2\n",
    "                test_iterator = IteratorForConnProb(os.path.join(subpath,folder,arg[folder+\"_test\"]), dtype= 'directed', mtype= 'directed')\n",
    "                micro_recall_dir.append(get_metric_result_for_dir(data_dir,test_iterator, test_index_start, onlyleft=arg['onlyleft']))\n",
    "            else:\n",
    "                print(f'\\n********************* Undirected || Seed {seed} *****************************')\n",
    "\n",
    "                train_iterator = IteratorForConnProb(os.path.join(subpath,folder,arg[folder+\"_train\"]), dtype= 'directed', mtype= 'undirected' )\n",
    "                valid_iterator = IteratorForConnProb(os.path.join(subpath,folder,arg[folder+\"_valid\"]), dtype= 'directed', mtype= 'undirected')\n",
    "                test_index_start = train_iterator.filesize + valid_iterator.filesize\n",
    "                if arg[folder+\"_train\"].endswith('.txt'):\n",
    "                    test_index_start -=2\n",
    "                del valid_iterator, train_iterator\n",
    "                test_iterator = IteratorForConnProb(os.path.join(subpath,folder,arg[folder+\"_test\"]), dtype= 'directed', mtype= 'undirected')\n",
    "                micro_recall_undir.append(get_metric_result_for_undir(data_undir, test_iterator, test_index_start, directed=True))"
   ]
  },
  {
   "cell_type": "code",
   "execution_count": 14,
   "metadata": {},
   "outputs": [
    {
     "data": {
      "image/png": "[encoded data removed]",
      "text/plain": [
       "<Figure size 400x400 with 1 Axes>"
      ]
     },
     "metadata": {},
     "output_type": "display_data"
    }
   ],
   "source": [
    "from matplotlib.lines import Line2D\n",
    "micro_recall_undir = np.array(micro_recall_undir)\n",
    "micro_recall_undir_mean, micro_recall_undir_std = np.mean(micro_recall_undir,axis =0) , np.std(micro_recall_undir, axis = 0)\n",
    "micro_recall_dir = np.array(micro_recall_dir)\n",
    "micro_recall_dir_mean, micro_recall_dir_std = np.mean(micro_recall_dir,axis =0) , np.std(micro_recall_dir, axis = 0)\n",
    "barWidth = 2\n",
    "fig = plt.subplots(figsize =(4, 4))\n",
    "x1 = [i for i in range(5, 50, 5)]\n",
    "# Make the plot\n",
    "plt.errorbar(x1, micro_recall_undir_mean, yerr= micro_recall_undir_std,  label =r'\\textbf{HyperNodeTPP}', color ='royalblue', linewidth=2, capsize=6)\n",
    "plt.errorbar(x1, micro_recall_dir_mean, yerr= micro_recall_dir_std, label =r'\\textbf{DHyperNodeTPP}', color= 'orange', linewidth=2, capsize=6)\n",
    "custom_lines = [Line2D([0], [0], color='royalblue', lw=2),\n",
    "                Line2D([0], [0], color='orange', lw=2)]\n",
    "legend_properties = {'weight':'bold'}\n",
    "plt.legend(custom_lines,[r'\\textbf{HyperNodeTPP}',r'\\textbf{DHyperNodeTPP}'], prop=legend_properties, ncol = 2, loc=[-0.035,1])\n",
    "plt.xlabel(r'\\textbf{\\% of nodes}', fontsize = 15)\n",
    "plt.ylabel(r'\\textbf{Recall}', fontsize = 15)\n",
    "plt.yticks(fontweight ='bold',fontsize = 15)\n",
    "plt.xticks(fontweight = 'bold',fontsize = 15)\n",
    "pathlib.Path(f\"./Plots/{files[arg['fileID']]}\").mkdir(parents=True,exist_ok=True)\n",
    "plt.savefig(f\"./Plots/{files[arg['fileID']]}/connectivity.pdf\",bbox_inches='tight', dpi = 1000, pad_inches=0)\n",
    "plt.show()"
   ]
  },
  {
   "cell_type": "code",
   "execution_count": null,
   "metadata": {},
   "outputs": [],
   "source": []
  }
 ],
 "metadata": {
  "kernelspec": {
   "display_name": "base",
   "language": "python",
   "name": "python3"
  },
  "language_info": {
   "codemirror_mode": {
    "name": "ipython",
    "version": 3
   },
   "file_extension": ".py",
   "mimetype": "text/x-python",
   "name": "python",
   "nbconvert_exporter": "python",
   "pygments_lexer": "ipython3",
   "version": "3.9.17"
  },
  "orig_nbformat": 4,
  "vscode": {
   "interpreter": {
    "hash": "0ef24a6b7e24517796907de708c1ae5b420180bb875179d186a712d4c8b76411"
   }
  }
 },
 "nbformat": 4,
 "nbformat_minor": 2
}
